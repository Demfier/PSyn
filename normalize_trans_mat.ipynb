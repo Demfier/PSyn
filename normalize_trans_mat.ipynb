{
 "cells": [
  {
   "cell_type": "code",
   "execution_count": null,
   "metadata": {
    "collapsed": false
   },
   "outputs": [],
   "source": [
    "from PSyn import matrix_functions\n",
    "import pandas as pd\n",
    "import os\n",
    "import time"
   ]
  },
  {
   "cell_type": "code",
   "execution_count": null,
   "metadata": {
    "collapsed": false
   },
   "outputs": [
    {
     "name": "stdout",
     "output_type": "stream",
     "text": [
      "(2349, 2349)\n"
     ]
    }
   ],
   "source": [
    "trans_mat_path = 'matrices/'\n",
    "trans_matrices = os.listdir(trans_mat_path)\n",
    "already_generated = map(lambda x: 'normalized_' + x, trans_matrices)\n",
    "for mat in trans_matrices:\n",
    "    if mat in already_generated:\n",
    "        continue\n",
    "    matrix = pd.read_pickle(trans_mat_path + mat)\n",
    "    print(matrix.shape)\n",
    "    matrix = matrix_functions.normalize_mat(matrix)\n",
    "    matrix.to_pickle(trans_mat_path + mat)\n",
    "    "
   ]
  }
 ],
 "metadata": {
  "kernelspec": {
   "display_name": "Python 3",
   "language": "python",
   "name": "python3"
  },
  "language_info": {
   "codemirror_mode": {
    "name": "ipython",
    "version": 3
   },
   "file_extension": ".py",
   "mimetype": "text/x-python",
   "name": "python",
   "nbconvert_exporter": "python",
   "pygments_lexer": "ipython3",
   "version": "3.6.0"
  }
 },
 "nbformat": 4,
 "nbformat_minor": 2
}
