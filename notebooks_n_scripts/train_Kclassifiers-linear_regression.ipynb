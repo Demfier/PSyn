{
 "cells": [
  {
   "cell_type": "code",
   "execution_count": null,
   "metadata": {
    "collapsed": false
   },
   "outputs": [],
   "source": [
    "import pandas as pd\n",
    "import numpy as np\n",
    "from IPython.display import display\n",
    "from PSyn import matrix_functions\n",
    "from PSyn import brain\n",
    "import os\n",
    "import time\n",
    "SOURCE_DATA_PATH = 'data/task1/train/'"
   ]
  },
  {
   "cell_type": "code",
   "execution_count": null,
   "metadata": {
    "collapsed": false
   },
   "outputs": [
    {
     "name": "stdout",
     "output_type": "stream",
     "text": [
      "polish-train-high\n",
      "Total Alphabets:\n",
      "{'d', 'S', 'n', 'u', 'j', 'i', 'h', 'f', 'X', 'M', ' ', 'ł', 'J', 'U', 'Z', 'Ł', 'R', 'k', 'm', 's', 'g', 'B', 'x', 'r', 'b', 'ą', 'K', 'ś', 'D', 'E', 'p', 'e', 'ń', 't', 'P', 'ź', 'y', 'ć', 'N', 'o', 'H', 'ó', 'ę', 'ż', 'z', 'a', 'w', 'G', 'F', 'c', 'C', '-', 'l', 'I', 'W', 'Ż', 'A'}\n",
      "Epsilon: 8.000000\n",
      "Ci: 57.000000\n"
     ]
    },
    {
     "name": "stderr",
     "output_type": "stream",
     "text": [
      "/home/gaurav/python-scripts/py/scripts/pg_project/BTP-ProgSyn/program_synthesis/PSyn/brain.py:234: RuntimeWarning: Mean of empty slice.\n",
      "  feature_vector = feature_vector.mean(axis=0)\n",
      "/home/gaurav/anaconda3/lib/python3.6/site-packages/numpy/core/_methods.py:80: RuntimeWarning: invalid value encountered in double_scalars\n",
      "  ret = ret.dtype.type(ret / rcount)\n"
     ]
    },
    {
     "name": "stdout",
     "output_type": "stream",
     "text": [
      "a_0_-8 (4617,) (2,) (7,)\n",
      "a_0_0 (4617,) (2,) (7,)\n",
      "r_0_-8 (4617,) (2,) (7,)\n",
      "r_0_0 (4617,) (2,) (7,)\n",
      "r_0_-8 (4617,) (2,) (7,)\n",
      "r_0_0 (4617,) (2,) (7,)\n",
      "b_0_-8 (4617,) (2,) (7,)\n",
      "b_0_0 (4617,) (2,) (7,)\n",
      "s_0_-8 (4617,) (2,) (7,)\n",
      "s_0_0 (4617,) (2,) (7,)\n",
      "p_0_-8 (4617,) (2,) (7,)\n",
      "p_0_0 (4617,) (2,) (7,)\n",
      "o_0_-8 (4617,) (2,) (7,)\n",
      "o_0_0 (4617,) (2,) (7,)\n",
      "z_0_-8 (4617,) (2,) (7,)\n",
      "z_0_0 (4617,) (2,) (7,)\n",
      "r_0_-8 (4617,) (2,) (7,)\n",
      "r_0_0 (4617,) (2,) (7,)\n",
      "r_0_-8 (4617,) (2,) (7,)\n",
      "r_0_0 (4617,) (2,) (7,)\n",
      "r_0_-8 (4617,) (2,) (7,)\n",
      "r_0_0 (4617,) (2,) (7,)\n",
      "e_0_-8 (4617,) (2,) (7,)\n",
      "e_0_0 (4617,) (2,) (7,)\n",
      "z_0_-8 (4617,) (2,) (7,)\n",
      "z_0_0 (4617,) (2,) (7,)\n",
      "r_0_-8 (4617,) (2,) (7,)\n",
      "r_0_0 (4617,) (2,) (7,)\n",
      "e_0_-8 (4617,) (2,) (7,)\n",
      "e_0_0 (4617,) (2,) (7,)\n",
      "(4527, 4626)\n"
     ]
    }
   ],
   "source": [
    "source_files = os.listdir(SOURCE_DATA_PATH)\n",
    "source_files = ['polish-train-high']\n",
    "start = time.time()\n",
    "for source in source_files:\n",
    "    print(source)\n",
    "    brain.train_Kmodel_classifier(source, classifier='linear_regression')\n",
    "    print(time.time() - start)\n",
    "    start = time.time()"
   ]
  }
 ],
 "metadata": {
  "kernelspec": {
   "display_name": "Python 3",
   "language": "python",
   "name": "python3"
  },
  "language_info": {
   "codemirror_mode": {
    "name": "ipython",
    "version": 3
   },
   "file_extension": ".py",
   "mimetype": "text/x-python",
   "name": "python",
   "nbconvert_exporter": "python",
   "pygments_lexer": "ipython3",
   "version": "3.6.0"
  }
 },
 "nbformat": 4,
 "nbformat_minor": 2
}
