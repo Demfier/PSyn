{
 "cells": [
  {
   "cell_type": "code",
   "execution_count": 5,
   "metadata": {
    "collapsed": true
   },
   "outputs": [],
   "source": [
    "import networkx as nx"
   ]
  },
  {
   "cell_type": "code",
   "execution_count": 23,
   "metadata": {
    "collapsed": false
   },
   "outputs": [],
   "source": [
    "G = nx.DiGraph()\n",
    "node_list = list()\n",
    "for i in range(4000):\n",
    "    node_list.append(str(i))\n",
    "# G.add_nodes_from(node_list)\n",
    "G.add_weighted_edges_from([('1', '5', 9)])\n",
    "mat = nx.to_pandas_dataframe(G, nodelist=node_list)\n",
    "# (mat['1'] + 9).map(str)"
   ]
  },
  {
   "cell_type": "code",
   "execution_count": 33,
   "metadata": {
    "collapsed": true
   },
   "outputs": [],
   "source": [
    "def normalize_mat(matrix):\n",
    "    global num_rows\n",
    "    num_rows = len(matrix.columns)\n",
    "\n",
    "    def normalize(row):\n",
    "        row_sum = row.sum()\n",
    "        zeros = sum(row == 0)\n",
    "        if zeros == 0:\n",
    "            return(row/(row_sum))\n",
    "        elif zeros == len(row):\n",
    "            return(row + 1/(num_rows**2))\n",
    "        zero_prob = zeros/(num_rows**2)\n",
    "        zero_smoothing = zero_prob/zeros\n",
    "        non_zero_smoothing = zero_prob/((num_rows - zeros)**2)\n",
    "        return(row - (1/row_sum))\n",
    "    return(matrix.apply(normalize, axis=1))\n",
    "\n",
    "def mean_normalization(matrix):\n",
    "    return((matrix-matrix.mean())/matrix.std())"
   ]
  },
  {
   "cell_type": "code",
   "execution_count": 34,
   "metadata": {
    "collapsed": false
   },
   "outputs": [
    {
     "name": "stdout",
     "output_type": "stream",
     "text": [
      "1 loop, best of 3: 26.4 s per loop\n"
     ]
    }
   ],
   "source": [
    "%%timeit\n",
    "normalize_mat(mat)"
   ]
  },
  {
   "cell_type": "code",
   "execution_count": 26,
   "metadata": {
    "collapsed": false
   },
   "outputs": [
    {
     "name": "stdout",
     "output_type": "stream",
     "text": [
      "1 loop, best of 3: 594 ms per loop\n"
     ]
    }
   ],
   "source": [
    "%%timeit\n",
    "mean_normalization(mat)"
   ]
  }
 ],
 "metadata": {
  "kernelspec": {
   "display_name": "Python 3",
   "language": "python",
   "name": "python3"
  },
  "language_info": {
   "codemirror_mode": {
    "name": "ipython",
    "version": 3
   },
   "file_extension": ".py",
   "mimetype": "text/x-python",
   "name": "python",
   "nbconvert_exporter": "python",
   "pygments_lexer": "ipython3",
   "version": "3.6.0"
  }
 },
 "nbformat": 4,
 "nbformat_minor": 2
}
