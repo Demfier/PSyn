{
 "cells": [
  {
   "cell_type": "code",
   "execution_count": 1,
   "metadata": {
    "collapsed": true
   },
   "outputs": [],
   "source": [
    "import pandas as pd\n",
    "from PSyn import matrix_functions\n",
    "import os\n",
    "from IPython.display import display\n",
    "import json"
   ]
  },
  {
   "cell_type": "code",
   "execution_count": 4,
   "metadata": {
    "collapsed": false
   },
   "outputs": [],
   "source": [
    "root_path = '/home/gaurav/python-scripts/py/scripts/pg_project/BTP-ProgSyn/program_synthesis/data/'\n",
    "source_files_path = root_path + 'task1/output/source_csvs/'\n",
    "\n",
    "already_done = map(lambda x: x.split('.')[0], os.listdir(root_path + 'task1/output/opn_dfs/opn_count/'))\n",
    "source_files = os.listdir(source_files_path)\n",
    "source_files = ['polish-uncovered-test']"
   ]
  },
  {
   "cell_type": "code",
   "execution_count": 18,
   "metadata": {
    "collapsed": false
   },
   "outputs": [
    {
     "name": "stdout",
     "output_type": "stream",
     "text": [
      "Making operation matrix for polish-uncovered-test\n",
      "Generated matrix\n",
      "Saved dict\n",
      "Making opn count df\n"
     ]
    }
   ],
   "source": [
    "for file in source_files:\n",
    "    if file in already_done:\n",
    "        continue\n",
    "    source_csv = open(source_files_path + file, 'r')\n",
    "    dict_for_df = {'source': [], 'target': [], 'all_info': [], 'pos': []}\n",
    "    content = source_csv.readlines()\n",
    "    for line in content:\n",
    "        row = line.split('\\t')\n",
    "        dict_for_df['source'].append(row[0])\n",
    "        dict_for_df['target'].append(row[1])\n",
    "        dict_for_df['all_info'].append(row[2].strip())\n",
    "        dict_for_df['pos'].append(row[2].split(';')[0])\n",
    "    source_df = pd.DataFrame.from_records(dict_for_df)\n",
    "#     del source_df['Unnamed: 0']\n",
    "    source_df = source_df[source_df['pos'] == 'N']\n",
    "#     display(source_df)\n",
    "    if source_df.empty:\n",
    "        continue\n",
    "#     del source_data['pos']\n",
    "#     del source_data['card']\n",
    "    print('Making operation matrix for %s' % file)\n",
    "    opn_df = matrix_functions.gen_operation_matrix(source_df)\n",
    "    print('Generated matrix')\n",
    "    st_dict = dict()\n",
    "    opn_df_for_dict = opn_df.groupby('source')\n",
    "    for src, df in opn_df_for_dict:\n",
    "        df.reset_index(drop=False, inplace=True)\n",
    "        del df['source']\n",
    "        del df['index']\n",
    "        rm_str = df['rem_subs'][0]\n",
    "        del df['rem_subs']\n",
    "#         display(df)\n",
    "        st_dict[src] = {'removed_substring': rm_str,\n",
    "                        'operation_sequence': df.to_json() }\n",
    "    with open(root_path + 'task1/output/opn_dfs/op_sequence_dict/' + file + '.json', 'w') as j:\n",
    "        print('Saved dict')\n",
    "        json.dump(st_dict, j)\n",
    "#         display(pd.read_json(st_dict[src]['operation_sequence']))\n",
    "    # get op count across all source words\n",
    "    print('Making opn count df')\n",
    "    group = opn_df.groupby(['opn', 'char', 'lpos', 'rpos']).size().reset_index(name='count')\n",
    "    group.to_csv(root_path + 'task1/output/opn_dfs/opn_count/' + file + '.csv')"
   ]
  }
 ],
 "metadata": {
  "kernelspec": {
   "display_name": "Python 3",
   "language": "python",
   "name": "python3"
  },
  "language_info": {
   "codemirror_mode": {
    "name": "ipython",
    "version": 3
   },
   "file_extension": ".py",
   "mimetype": "text/x-python",
   "name": "python",
   "nbconvert_exporter": "python",
   "pygments_lexer": "ipython3",
   "version": "3.6.0"
  }
 },
 "nbformat": 4,
 "nbformat_minor": 2
}
