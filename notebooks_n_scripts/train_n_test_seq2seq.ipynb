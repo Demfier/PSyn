{
 "cells": [
  {
   "cell_type": "code",
   "execution_count": 10,
   "metadata": {
    "collapsed": false
   },
   "outputs": [],
   "source": [
    "import pickle as p\n",
    "import pandas as pd\n",
    "import numpy as np\n",
    "import os\n",
    "import sys\n",
    "from time import time\n",
    "\n",
    "from PSyn import data_operators as dops\n",
    "from PSyn import brain"
   ]
  },
  {
   "cell_type": "code",
   "execution_count": 11,
   "metadata": {
    "collapsed": false
   },
   "outputs": [],
   "source": [
    "source = pd.read_csv('data/task1/train/polish-train-high', sep='\\t', names=['source', 'target', 'pos'])\n",
    "test = pd.read_csv('data/task1/dev/polish-dev', sep='\\t', names=['source', 'target', 'pos'])"
   ]
  },
  {
   "cell_type": "code",
   "execution_count": 12,
   "metadata": {
    "collapsed": false
   },
   "outputs": [],
   "source": [
    "letters = set()\n",
    "for s in source['source']:\n",
    "    for c in s:\n",
    "        letters.add(c)\n",
    "for t in source['target']:\n",
    "    for c in t:\n",
    "        letters.add(c)\n",
    "letters.add('_')\n",
    "index_to_letter = dict(enumerate(letters))\n",
    "letter_to_index = dict((v, k) for k, v in index_to_letter.items())"
   ]
  },
  {
   "cell_type": "code",
   "execution_count": 13,
   "metadata": {
    "collapsed": false
   },
   "outputs": [],
   "source": [
    "source_inflection_dict = {}\n",
    "\n",
    "for row in source.iterrows():\n",
    "    source_inflection_dict[row[1]['source']] = [letter_to_index[l] for l in row[1]['target']]\n",
    "    \n",
    "test_inflection = {}\n",
    "\n",
    "for row in test.iterrows():\n",
    "    test_inflection[row[1]['source']] = [letter_to_index[l] for l in row[1]['target']]"
   ]
  },
  {
   "cell_type": "code",
   "execution_count": 14,
   "metadata": {
    "collapsed": false
   },
   "outputs": [
    {
     "name": "stdout",
     "output_type": "stream",
     "text": [
      "lampa sygnalizacyjno-ostrzegawcza\n",
      "[46, 56, 1, 32, 33, 57, 21, 36, 38, 27, 56, 46, 5, 58, 56, 7, 36, 45, 27, 8, 34, 8, 21, 11, 53, 58, 3, 38, 56, 31, 7, 58, 33]\n",
      "nierodzima użytkowniczka języka\n",
      "[27, 5, 3, 53, 8, 30, 58, 5, 1, 36, 1, 5, 57, 42, 37, 36, 11, 49, 8, 31, 27, 5, 7, 58, 49, 56, 1, 5, 57, 45, 43, 58, 36, 49, 56]\n"
     ]
    }
   ],
   "source": [
    "max_s = max([len(s) for s, i in source_inflection_dict.items()])\n",
    "max_v = max([len(i) for s, i in source_inflection_dict.items()])\n",
    "for s, i in source_inflection_dict.items():\n",
    "    if len(s) == max_s or len(i) == max_v:\n",
    "        print(s)\n",
    "        print(i)\n",
    "\n",
    "max_t_s = max([len(s) for s, i in test_inflection.items()])\n",
    "max_t_v = max([len(i) for s, i in test_inflection.items()])"
   ]
  },
  {
   "cell_type": "code",
   "execution_count": 15,
   "metadata": {
    "collapsed": false
   },
   "outputs": [],
   "source": [
    "pairs = np.random.permutation(list(source_inflection_dict.keys()))\n",
    "test_pairs = np.random.permutation(list(test_inflection.keys()))\n",
    "\n",
    "input_vec = np.zeros((len(pairs), 33))\n",
    "labels = np.zeros((len(pairs), 35))\n",
    "\n",
    "for i, k in enumerate(pairs):\n",
    "    v = source_inflection_dict[k]\n",
    "    k += '_' * (33 - len(k))\n",
    "    v += [0] * (35 - len(v))\n",
    "    for j, c in enumerate(k):\n",
    "        input_vec[i][j] = letter_to_index[c]\n",
    "    for j, n in enumerate(v):\n",
    "        labels[i][j] = n\n",
    "\n",
    "input_vec = input_vec.astype(np.int32)\n",
    "labels = labels.astype(np.int32)\n",
    "\n",
    "data_train = zip(input_vec[:-1000], labels[:-1000])\n",
    "data_val = zip(input_vec[-1000:], labels[-1000:])\n",
    "\n",
    "test_vec = np.zeros((len(test_pairs), 33))\n",
    "test_labels = np.zeros((len(test_pairs), 35))\n",
    "\n",
    "for i, k in enumerate(test_pairs):\n",
    "    v = test_inflection[k]\n",
    "    k += '_' * (33 - len(k))\n",
    "    v += [0] * (35 - len(v))\n",
    "\n",
    "    for j, c in enumerate(k):\n",
    "        test_vec[i][j] = letter_to_index[c]\n",
    "    for j, n in enumerate(v):\n",
    "        test_labels[i][j] = n\n",
    "\n",
    "test_vec = test_vec.astype(np.int32)\n",
    "test_labels = test_labels.astype(np.int32)\n",
    "\n",
    "data_test = zip(test_vec, test_labels)"
   ]
  },
  {
   "cell_type": "code",
   "execution_count": 16,
   "metadata": {
    "collapsed": true
   },
   "outputs": [],
   "source": [
    "hyperparams = {}\n",
    "hyperparams['input_seq_length'] = 33\n",
    "hyperparams['output_seq_length'] = 35\n",
    "hyperparams['input_vocab_size'] = len(letters)\n",
    "hyperparams['output_vocab_size'] = len(letters)"
   ]
  },
  {
   "cell_type": "code",
   "execution_count": 17,
   "metadata": {
    "collapsed": false
   },
   "outputs": [],
   "source": [
    "train_iter = dops.DataIterator(data_train, 128)\n",
    "val_iter = dops.DataIterator(data_val, 128)\n",
    "test_iter = dops.DataIterator(data_test, 128)"
   ]
  },
  {
   "cell_type": "code",
   "execution_count": 27,
   "metadata": {
    "collapsed": false
   },
   "outputs": [
    {
     "ename": "AttributeError",
     "evalue": "module 'tensorflow' has no attribute 'Session'",
     "output_type": "error",
     "traceback": [
      "\u001b[0;31m---------------------------------------------------------------------------\u001b[0m",
      "\u001b[0;31mAttributeError\u001b[0m                            Traceback (most recent call last)",
      "\u001b[0;32m<ipython-input-27-85282610a640>\u001b[0m in \u001b[0;36m<module>\u001b[0;34m()\u001b[0m\n\u001b[1;32m      7\u001b[0m \u001b[0;32mexcept\u001b[0m\u001b[0;34m:\u001b[0m\u001b[0;34m\u001b[0m\u001b[0m\n\u001b[1;32m      8\u001b[0m     \u001b[0;32mpass\u001b[0m\u001b[0;34m\u001b[0m\u001b[0m\n\u001b[0;32m----> 9\u001b[0;31m \u001b[0msess\u001b[0m \u001b[0;34m=\u001b[0m \u001b[0mtf\u001b[0m\u001b[0;34m.\u001b[0m\u001b[0mSession\u001b[0m\u001b[0;34m(\u001b[0m\u001b[0;34m)\u001b[0m\u001b[0;34m\u001b[0m\u001b[0m\n\u001b[0m\u001b[1;32m     10\u001b[0m \u001b[0;34m\u001b[0m\u001b[0m\n\u001b[1;32m     11\u001b[0m \u001b[0minput_seq_length\u001b[0m \u001b[0;34m=\u001b[0m \u001b[0mhyperparams\u001b[0m\u001b[0;34m[\u001b[0m\u001b[0;34m'input_seq_length'\u001b[0m\u001b[0;34m]\u001b[0m\u001b[0;34m\u001b[0m\u001b[0m\n",
      "\u001b[0;31mAttributeError\u001b[0m: module 'tensorflow' has no attribute 'Session'"
     ]
    }
   ],
   "source": [
    "import tensorflow as tf\n",
    "from tensorflow.python import ops\n",
    "\n",
    "ops.reset_default_graph()\n",
    "try:\n",
    "    sess.close()\n",
    "except:\n",
    "    pass\n",
    "sess = tf.Session()\n",
    "\n",
    "input_seq_length = hyperparams['input_seq_length']\n",
    "output_seq_length = hyperparams['output_seq_length']\n",
    "batch_size = 128\n",
    "\n",
    "input_vocab_size = hyperparams['input_vocab_size']\n",
    "output_vocab_size = hyperparams['output_vocab_size']\n",
    "embedding_dim = 256\n",
    "\n",
    "encode_input = [tf.placeholder(tf.int32,\n",
    "                               shape=(None,),\n",
    "                               name=\"ei_%i\" % i)\n",
    "                for i in range(input_seq_length)]\n",
    "\n",
    "labels = [tf.placeholder(tf.int32,\n",
    "                         shape=(None,),\n",
    "                         name=\"l_%i\" % i)\n",
    "          for i in range(output_seq_length)]\n",
    "\n",
    "decode_input = [tf.zeros_like(encode_input[0],\n",
    "                              dtype=np.int32, name=\"START\")] + labels[:-1]\n",
    "\n",
    "# Meat of the model\n",
    "keep_prob = tf.placeholder(\"float\")\n",
    "cells = [tf.contrib.rnn.DropoutWrapper(tf.contrib.rnn.BasicLSTMCell(embedding_dim),\n",
    "                            output_keep_prob=keep_prob)\n",
    "         for i in range(3)]\n",
    "stacked_lstm = tf.contrib.rnn.MultiRNNCell(cells)\n",
    "\n",
    "with tf.variable_scope(\"decoders\") as scope:\n",
    "    decode_outputs, decode_state = tf.contrib.legacy_seq2seq.embedding_rnn_seq2seq(\n",
    "        encode_input, decode_input, stacked_lstm,\n",
    "        input_vocab_size, output_vocab_size)\n",
    "\n",
    "    scope.reuse_variables()\n",
    "\n",
    "    decode_outputs_test, decode_state_test = tf.contrib.nn.legacy_seq2seq.embedding_rnn_seq2seq(\n",
    "        encode_input, decode_input, stacked_lstm,\n",
    "        input_vocab_size, output_vocab_size,\n",
    "        feed_previous=True)\n",
    "\n",
    "loss_weights = [tf.ones_like(l, dtype=tf.float32) for l in labels]\n",
    "loss = seq2seq.sequence_loss(decode_outputs, labels, loss_weights, output_vocab_size)\n",
    "optimizer = tf.train.AdamOptimizer(1e-4)\n",
    "train_op = optimizer.minimize(loss)\n",
    "\n",
    "sess.run(tf.initialize_all_variables())\n",
    "\n",
    "for i in range(len(list(data_train))):\n",
    "    try:\n",
    "        train_batch(train_iter)\n",
    "        if i % 500 == 0:\n",
    "            val_loss, val_predict = eval_batch(val_iter, 16)\n",
    "            train_loss, train_predict = eval_batch(train_iter, 16)\n",
    "            print(\"val loss   : %f, val predict   = %.1f%%\" % (val_loss, val_predict * 100))\n",
    "            print(\"train loss : %f, train predict = %.1f%%\" % (train_loss, train_predict * 100))\n",
    "            print\n",
    "            sys.stdout.flush()\n",
    "    except KeyboardInterrupt:\n",
    "        print(\"interrupted by user\")\n",
    "        break\n",
    "\n",
    "eval_loss, output, X, Y = get_eval_batch_data(test_iter)"
   ]
  }
 ],
 "metadata": {
  "kernelspec": {
   "display_name": "Python 3",
   "language": "python",
   "name": "python3"
  },
  "language_info": {
   "codemirror_mode": {
    "name": "ipython",
    "version": 3
   },
   "file_extension": ".py",
   "mimetype": "text/x-python",
   "name": "python",
   "nbconvert_exporter": "python",
   "pygments_lexer": "ipython3",
   "version": "3.6.0"
  }
 },
 "nbformat": 4,
 "nbformat_minor": 2
}
