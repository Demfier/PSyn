{
 "cells": [
  {
   "cell_type": "code",
   "execution_count": 1,
   "metadata": {
    "collapsed": false
   },
   "outputs": [],
   "source": [
    "import pandas as pd\n",
    "import numpy as np\n",
    "from IPython.display import display\n",
    "from PSyn import matrix_functions\n",
    "from PSyn import brain\n",
    "import os\n",
    "import time\n",
    "SOURCE_DATA_PATH = 'data/task1/dev/'\n",
    "from collections import Counter"
   ]
  },
  {
   "cell_type": "code",
   "execution_count": 8,
   "metadata": {
    "collapsed": false,
    "scrolled": false
   },
   "outputs": [
    {
     "name": "stdout",
     "output_type": "stream",
     "text": [
      "polish-train-high\n",
      "Total Alphabets:\n",
      "{'b', 'p', 'ś', 'f', 'ł', 'y', 'M', 'k', 'W', 'r', 'ę', 'd', 'm', 'B', 'R', 'w', 'i', 'n', 'ó', 'g', 'Ż', 'h', 'ą', ' ', 'u', 'j', 'z', 'c', 'ć', 'a', 'C', 'e', 'ż', 'G', 'ź', 't', 'l', 'ń', 's', 'o'}\n",
      "Epsilon: 9.000000\n",
      "Ci: 40.000000\n"
     ]
    },
    {
     "name": "stderr",
     "output_type": "stream",
     "text": [
      "/home/gaurav/anaconda3/lib/python3.6/site-packages/numpy/lib/function_base.py:1110: RuntimeWarning: Mean of empty slice.\n",
      "  avg = a.mean(axis)\n",
      "/home/gaurav/anaconda3/lib/python3.6/site-packages/numpy/core/_methods.py:80: RuntimeWarning: invalid value encountered in double_scalars\n",
      "  ret = ret.dtype.type(ret / rcount)\n"
     ]
    },
    {
     "ename": "ZeroDivisionError",
     "evalue": "float division by zero",
     "output_type": "error",
     "traceback": [
      "\u001b[0;31m---------------------------------------------------------------------------\u001b[0m",
      "\u001b[0;31mZeroDivisionError\u001b[0m                         Traceback (most recent call last)",
      "\u001b[0;32m<ipython-input-8-8efc2bcb7f42>\u001b[0m in \u001b[0;36m<module>\u001b[0;34m()\u001b[0m\n\u001b[1;32m      6\u001b[0m \u001b[0;31m# for source in source_files:\u001b[0m\u001b[0;34m\u001b[0m\u001b[0;34m\u001b[0m\u001b[0m\n\u001b[1;32m      7\u001b[0m \u001b[0mprint\u001b[0m\u001b[0;34m(\u001b[0m\u001b[0msource\u001b[0m\u001b[0;34m)\u001b[0m\u001b[0;34m\u001b[0m\u001b[0m\n\u001b[0;32m----> 8\u001b[0;31m \u001b[0mprf\u001b[0m\u001b[0;34m,\u001b[0m \u001b[0mtotal_corect\u001b[0m\u001b[0;34m,\u001b[0m \u001b[0mglobal_attr\u001b[0m\u001b[0;34m,\u001b[0m \u001b[0mtotal_entries\u001b[0m\u001b[0;34m,\u001b[0m \u001b[0mcorrect_inflections\u001b[0m\u001b[0;34m,\u001b[0m \u001b[0mmacro_prf\u001b[0m \u001b[0;34m=\u001b[0m \u001b[0mbrain\u001b[0m\u001b[0;34m.\u001b[0m\u001b[0mtest_model_accuracy\u001b[0m\u001b[0;34m(\u001b[0m\u001b[0msource\u001b[0m\u001b[0;34m,\u001b[0m \u001b[0mclassifier\u001b[0m\u001b[0;34m=\u001b[0m\u001b[0;34m'linear_regression'\u001b[0m\u001b[0;34m)\u001b[0m\u001b[0;34m\u001b[0m\u001b[0m\n\u001b[0m\u001b[1;32m      9\u001b[0m \u001b[0;31m# print(time.time() - start)\u001b[0m\u001b[0;34m\u001b[0m\u001b[0;34m\u001b[0m\u001b[0m\n\u001b[1;32m     10\u001b[0m \u001b[0mstart\u001b[0m \u001b[0;34m=\u001b[0m \u001b[0mtime\u001b[0m\u001b[0;34m.\u001b[0m\u001b[0mtime\u001b[0m\u001b[0;34m(\u001b[0m\u001b[0;34m)\u001b[0m\u001b[0;34m\u001b[0m\u001b[0m\n",
      "\u001b[0;32m/home/gaurav/python-scripts/py/scripts/pg_project/BTP-ProgSyn/program_synthesis/PSyn/brain.py\u001b[0m in \u001b[0;36mtest_model_accuracy\u001b[0;34m(language, classifier, random_test, fasttext_test)\u001b[0m\n\u001b[1;32m    510\u001b[0m         \u001b[0;32mif\u001b[0m \u001b[0;32mFalse\u001b[0m \u001b[0;32mnot\u001b[0m \u001b[0;32min\u001b[0m \u001b[0;34m(\u001b[0m\u001b[0mmacro_labels\u001b[0m\u001b[0;34m[\u001b[0m\u001b[0mi\u001b[0m\u001b[0;34m]\u001b[0m \u001b[0;34m==\u001b[0m \u001b[0mmacro_preds\u001b[0m\u001b[0;34m[\u001b[0m\u001b[0mi\u001b[0m\u001b[0;34m]\u001b[0m\u001b[0;34m)\u001b[0m\u001b[0;34m:\u001b[0m\u001b[0;34m\u001b[0m\u001b[0m\n\u001b[1;32m    511\u001b[0m             \u001b[0mtrue_acc\u001b[0m \u001b[0;34m+=\u001b[0m \u001b[0;36m1\u001b[0m\u001b[0;34m\u001b[0m\u001b[0m\n\u001b[0;32m--> 512\u001b[0;31m     \u001b[0;32mreturn\u001b[0m\u001b[0;34m(\u001b[0m\u001b[0mprf_\u001b[0m\u001b[0;34m,\u001b[0m \u001b[0mtrue_acc\u001b[0m\u001b[0;34m,\u001b[0m \u001b[0mtrue_acc\u001b[0m\u001b[0;34m/\u001b[0m\u001b[0mfloat\u001b[0m\u001b[0;34m(\u001b[0m\u001b[0mlen\u001b[0m\u001b[0;34m(\u001b[0m\u001b[0mmacro_labels\u001b[0m\u001b[0;34m)\u001b[0m\u001b[0;34m)\u001b[0m\u001b[0;34m,\u001b[0m \u001b[0mlen\u001b[0m\u001b[0;34m(\u001b[0m\u001b[0mtruncated_label_vecs\u001b[0m\u001b[0;34m)\u001b[0m\u001b[0;34m,\u001b[0m \u001b[0mcorrect_inflections\u001b[0m\u001b[0;34m,\u001b[0m \u001b[0mmacro_prf_support\u001b[0m\u001b[0;34m)\u001b[0m\u001b[0;34m\u001b[0m\u001b[0m\n\u001b[0m\u001b[1;32m    513\u001b[0m \u001b[0;34m\u001b[0m\u001b[0m\n\u001b[1;32m    514\u001b[0m \u001b[0;34m\u001b[0m\u001b[0m\n",
      "\u001b[0;31mZeroDivisionError\u001b[0m: float division by zero"
     ]
    }
   ],
   "source": [
    "source_files = os.listdir(SOURCE_DATA_PATH)\n",
    "source = 'polish-train-high'\n",
    "# source_files = ['polish-train-medium']\n",
    "\n",
    "start = time.time()\n",
    "# for source in source_files:\n",
    "print(source)\n",
    "prf, total_corect, global_attr, total_entries, correct_inflections, macro_prf = brain.test_model_accuracy(source, classifier='linear_regression')\n",
    "# print(time.time() - start)\n",
    "start = time.time()\n",
    "print('Macro PRF:', )\n",
    "print('Guessed %d inflections correctly out of %d.\\nAccuracy: %f' % (total_corect, total_entries, (total_corect * 100 / float(total_entries))))"
   ]
  },
  {
   "cell_type": "code",
   "execution_count": null,
   "metadata": {
    "collapsed": false,
    "scrolled": true
   },
   "outputs": [],
   "source": [
    "source_files = os.listdir(SOURCE_DATA_PATH)\n",
    "source = 'polish-train-high'\n",
    "# source_files = ['polish-train-medium']\n",
    "\n",
    "start = time.time()\n",
    "# for source in source_files:\n",
    "print(source)\n",
    "prf, total_corect, global_attr, total_entries, correct_inflections, macro_prf = brain.test_model_accuracy(source, classifier='random_forest')\n",
    "# print(time.time() - start)\n",
    "start = time.time()\n",
    "print('Macro PRF:', )\n",
    "print('Guessed %d inflections correctly out of %d.\\nAccuracy: %f' % (total_corect, total_entries, (total_corect * 100 / float(total_entries))))"
   ]
  },
  {
   "cell_type": "code",
   "execution_count": null,
   "metadata": {
    "collapsed": false
   },
   "outputs": [],
   "source": [
    "global_attr"
   ]
  },
  {
   "cell_type": "code",
   "execution_count": null,
   "metadata": {
    "collapsed": false
   },
   "outputs": [],
   "source": [
    "source_csv = open('data/task1/dev/polish-dev', 'r')\n",
    "dict_for_df = {'source': [], 'target': [], 'source_node': [], 'pos': []}\n",
    "content = source_csv.readlines()\n",
    "for line in content:\n",
    "    row = line.split('\\t')\n",
    "    dict_for_df['source'].append(row[0])\n",
    "    dict_for_df['target'].append(row[1])\n",
    "    dict_for_df['source_node'].append(\n",
    "        row[0] + '-' + row[2].strip().replace(';', '_'))\n",
    "    dict_for_df['pos'].append(row[2].split(';')[0])\n",
    "source_df = pd.DataFrame.from_records(dict_for_df)\n",
    "source_df = source_df[source_df['pos'] == 'N']\n",
    "idx = source_df.index[source_df['source_node'] == 'Cezar-N_DAT_PL']\n",
    "list(source_df.loc[idx]['target'])"
   ]
  },
  {
   "cell_type": "code",
   "execution_count": null,
   "metadata": {
    "collapsed": false
   },
   "outputs": [],
   "source": [
    "o = pd.DataFrame.from_dict(correct_inflections)\n",
    "ops_ = {}\n",
    "for key in o.columns.values:\n",
    "    ops_[key] = []\n",
    "    for i, _ in enumerate(o[key]):\n",
    "        if _:\n",
    "            ops_[key].append(o[key].index.values[i])\n",
    "t = []\n",
    "for s_node in list(ops_.keys()):\n",
    "    idx = source_df.index[source_df['source_node'] == s_node]\n",
    "    t.append(list(source_df.loc[idx]['target'])[0])\n",
    "pd.DataFrame.from_dict({'source': list(ops_.keys()), 'opn_sequence': list(ops_.values()), 'target': t})"
   ]
  },
  {
   "cell_type": "code",
   "execution_count": null,
   "metadata": {
    "collapsed": false
   },
   "outputs": [],
   "source": [
    "prf_values = list(prf.values())\n",
    "prf_keys = list(prf.keys())\n",
    "prf_df = pd.DataFrame.from_dict({'operation': [_.split('_')[0] for _ in prf_keys],\n",
    "                                 'char': [_.split('_')[1] for _ in prf_keys],\n",
    "                                 'lpos': [_.split('_')[2] for _ in prf_keys],\n",
    "                                 'rpos': [_.split('_')[3] for _ in prf_keys],\n",
    "                                 'precision': [_[0] for _ in prf_values],\n",
    "                                 'recall': [_[1] for _ in prf_values],\n",
    "                                 'f_score': [_[2] for _ in prf_values]})\n",
    "display(prf_df.head())\n",
    "P = [ e[0] for e in list(prf.values())]\n",
    "R = [ e[1] for e in list(prf.values())]\n",
    "F = [ e[2] for e in list(prf.values())]\n",
    "print(np.mean(P), np.mean(R), np.mean(F))"
   ]
  },
  {
   "cell_type": "code",
   "execution_count": null,
   "metadata": {
    "collapsed": false
   },
   "outputs": [],
   "source": [
    "import seaborn as sns\n",
    "import matplotlib.pyplot as plt\n",
    "print('Model-wise boxplots for full-length bitstrings')\n",
    "plt.clf()\n",
    "box_plot = sns.boxplot(x='operation', y='precision', data=prf_df)\n",
    "display(box_plot.get_figure())\n",
    "plt.clf()\n",
    "box_plot = sns.boxplot(x='operation', y='recall', data=prf_df)\n",
    "display(box_plot.get_figure())\n",
    "plt.clf()\n",
    "box_plot = sns.boxplot(x='operation', y='f_score', data=prf_df)\n",
    "display(box_plot.get_figure())\n",
    "plt.clf()\n",
    "box_plot = sns.boxplot(x='char', y='precision', data=prf_df)\n",
    "display(box_plot.get_figure())"
   ]
  },
  {
   "cell_type": "code",
   "execution_count": null,
   "metadata": {
    "collapsed": false
   },
   "outputs": [],
   "source": [
    "# Load graphs of classifiers\n",
    "import pickle\n",
    "import os\n",
    "from sklearn import tree\n",
    "LABELS_PATH = 'data/task1/output/labels/'\n",
    "labels = pickle.load(open(LABELS_PATH + 'polish-train-high.p', 'rb'))\n",
    "clf_path = 'data/task1/output/prediction/polish-train-high/'\n",
    "features = pickle.load(open('feature_map_polish.p', 'rb')).keys()\n",
    "dtrees = [pickle.load(open(clf_path + clf, 'rb')) for clf in os.listdir(clf_path)]\n",
    "for i, t in enumerate(os.listdir(clf_path)):\n",
    "    if 'decision_tree.p' not in t:\n",
    "        continue\n",
    "    tree.export_graphviz(dtrees[i], out_file='dotfiles/' + t.replace('.p', '.dot'), feature_names=list(features))"
   ]
  },
  {
   "cell_type": "code",
   "execution_count": null,
   "metadata": {
    "collapsed": true
   },
   "outputs": [],
   "source": [
    "from subprocess import check_call\n",
    "for dot_f in os.listdir('dotfiles/'):\n",
    "    check_call(['dot','-Tpng',('dotfiles/' + dot_f),'-o','pngs/' + dot_f.replace('.dot', '.png')])"
   ]
  },
  {
   "cell_type": "code",
   "execution_count": null,
   "metadata": {
    "collapsed": false
   },
   "outputs": [],
   "source": [
    "for i, t in enumerate(os.listdir(clf_path)):\n",
    "    if 'decision_tree.p' in t:\n",
    "        continue\n",
    "    feature_importances = dtrees[i].feature_importances_\n",
    "    \n",
    "    "
   ]
  }
 ],
 "metadata": {
  "kernelspec": {
   "display_name": "Python 3",
   "language": "python",
   "name": "python3"
  },
  "language_info": {
   "codemirror_mode": {
    "name": "ipython",
    "version": 3
   },
   "file_extension": ".py",
   "mimetype": "text/x-python",
   "name": "python",
   "nbconvert_exporter": "python",
   "pygments_lexer": "ipython3",
   "version": "3.6.0"
  }
 },
 "nbformat": 4,
 "nbformat_minor": 2
}
