{
 "cells": [
  {
   "cell_type": "code",
   "execution_count": null,
   "metadata": {
    "collapsed": true
   },
   "outputs": [],
   "source": [
    "import pandas as pd\n",
    "import numpy as np\n",
    "from IPython.display import display\n",
    "from PSyn import matrix_functions\n",
    "import os\n",
    "import time"
   ]
  },
  {
   "cell_type": "code",
   "execution_count": null,
   "metadata": {
    "collapsed": false
   },
   "outputs": [
    {
     "name": "stdout",
     "output_type": "stream",
     "text": [
      "Total Alphabets:\n",
      "{'u', 'B', 'ê', 'D', 'g', 'V', 'ô', 'k', 'c', 'n', 'd', 'e', 'j', 'p', 'r', ' ', 'v', '-', 'm', 'q', 'F', 'f', 'y', 'U', 'i', 'l', 'T', 'h', 'x', 'b', 'w', 'ø', 'å', 'æ', 'A', 'C', 'H', 'é', 't', 'a', 's', 'ò', 'o', 'z'}\n",
      "Epsilon: 9.000000\n",
      "Ci: 44.000000\n"
     ]
    }
   ],
   "source": [
    "OPN_JSON_PATH = 'data/task1/output/opn_dfs/op_sequence_dict/'\n",
    "SOURCE_DATA_PATH = 'data/task1/train/'\n",
    "NODE_OPN_STORE_PATH = 'data/task1/output/opn_dfs/node_opn_dfs/'\n",
    "source_files = os.listdir(SOURCE_DATA_PATH)\n",
    "start = time.time()\n",
    "for source in source_files:\n",
    "    node_opn_mat = matrix_functions.gen_node_operation_matrix(OPN_JSON_PATH + source + '.json', SOURCE_DATA_PATH + source)\n",
    "    print(source, time.time() - start)\n",
    "    start = time.time()\n",
    "    node_opn_mat.to_pickle(NODE_OPN_STORE_PATH + source + '.p')"
   ]
  },
  {
   "cell_type": "code",
   "execution_count": null,
   "metadata": {
    "collapsed": false
   },
   "outputs": [],
   "source": []
  }
 ],
 "metadata": {
  "kernelspec": {
   "display_name": "Python 3",
   "language": "python",
   "name": "python3"
  },
  "language_info": {
   "codemirror_mode": {
    "name": "ipython",
    "version": 3
   },
   "file_extension": ".py",
   "mimetype": "text/x-python",
   "name": "python",
   "nbconvert_exporter": "python",
   "pygments_lexer": "ipython3",
   "version": "3.6.0"
  }
 },
 "nbformat": 4,
 "nbformat_minor": 2
}
