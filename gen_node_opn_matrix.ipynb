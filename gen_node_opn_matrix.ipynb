{
 "cells": [
  {
   "cell_type": "code",
   "execution_count": null,
   "metadata": {
    "collapsed": true
   },
   "outputs": [],
   "source": [
    "import pandas as pd\n",
    "import numpy as np\n",
    "from IPython.display import display\n",
    "from PSyn import matrix_functions\n",
    "import os\n",
    "import time\n",
    "OPN_JSON_PATH = 'data/task1/output/opn_dfs/op_sequence_dict/'\n",
    "SOURCE_DATA_PATH = 'data/task1/train/'\n",
    "NODE_OPN_STORE_PATH = 'data/task1/output/opn_dfs/node_opn_dfs/'"
   ]
  },
  {
   "cell_type": "code",
   "execution_count": null,
   "metadata": {
    "collapsed": false
   },
   "outputs": [
    {
     "name": "stdout",
     "output_type": "stream",
     "text": [
      "norwegian-nynorsk-train-high\n",
      "Total Alphabets:\n",
      "{'e', 'æ', 'b', 'V', 'T', '-', 'i', 'A', 'o', 'ê', 'U', 'u', 'l', 'ø', 'B', 'z', 'å', 'C', 'f', 'é', 'D', 's', 'd', 'a', 'ô', 'H', 'r', 'm', 't', 'ò', 'h', 'F', 'j', 'k', 'w', 'v', 'y', 'x', 'g', 'c', 'n', 'q', ' ', 'p'}\n",
      "Epsilon: 9.000000\n",
      "Ci: 44.000000\n",
      "1498.3650360107422\n",
      "slovene-train-low\n",
      "Total Alphabets:\n",
      "{'e', 'Í', 'á', 'b', 'ú', 'i', 'o', 'l', 'z', 'è', 'f', 'é', 'ó', 's', 'd', 'a', 'š', 'ô', 'č', 'r', 'm', 'í', 't', 'h', 'ž', 'j', 'k', 'v', 'à', 'L', 'g', 'c', 'n', 'p'}\n",
      "Epsilon: 7.000000\n",
      "Ci: 34.000000\n",
      "3.226635217666626\n",
      "polish-train-low\n",
      "Total Alphabets:\n",
      "{'e', 'b', 'ż', 'i', 'ą', 'o', 'M', 'u', 'l', 'z', 'f', 'ó', 'ć', 'ł', 'ę', 's', 'd', 'a', 'ń', 'r', 'm', 't', 'h', 'j', 'ś', 'k', 'w', 'y', 'g', 'c', 'n', ' ', 'p'}\n",
      "Epsilon: 9.000000\n",
      "Ci: 33.000000\n",
      "4.089085578918457\n",
      "german-train-medium\n",
      "Total Alphabets:\n",
      "{'e', 'b', 'ü', 'V', 'R', 'T', '-', 'i', 'S', 'A', 'ö', 'o', 'U', 'M', 'u', 'l', 'B', 'Z', 'z', 'N', 'C', 'Q', 'f', 'I', 'ä', 'K', 'é', 'W', 'J', 'D', 's', 'P', 'd', 'a', 'ß', 'Ö', 'Ä', 'H', 'r', 'm', 't', 'G', 'h', 'F', 'O', 'j', 'E', 'k', 'w', 'Ü', 'v', 'L', 'x', 'g', 'y', 'à', 'c', 'n', 'X', 'q', 'p'}\n",
      "Epsilon: 11.000000\n",
      "Ci: 61.000000\n",
      "44.84448599815369\n",
      "polish-train-medium\n",
      "Total Alphabets:\n",
      "{'e', 'ź', 'b', 'ż', 'i', 'ą', 'A', 'S', 'o', 'M', 'u', 'l', 'z', 'f', 'ó', 'ć', 'ł', 'ę', 'D', 's', 'd', 'a', 'ń', 'r', 'm', 't', 'h', 'F', 'j', 'ś', 'k', 'w', 'y', 'g', 'c', 'n', ' ', 'p'}\n",
      "Epsilon: 8.000000\n",
      "Ci: 38.000000\n",
      "45.18846321105957\n",
      "georgian-train-low\n",
      "Total Alphabets:\n",
      "{'დ', 'ი', 'ო', 'ფ', 'ქ', 'ა', 'კ', 'ჭ', 'ც', 'შ', 'ბ', 'ჟ', 'პ', 'რ', 'ჩ', 'მ', 'ნ', 'ტ', 'ღ', 'ყ', 'ზ', 'უ', 'წ', 'ხ', 'ვ', 'ს', 'ლ', 'გ', 'თ', 'ე'}\n",
      "Epsilon: 8.000000\n",
      "Ci: 30.000000\n",
      "9.089582920074463\n",
      "norwegian-nynorsk-train-low\n",
      "Total Alphabets:\n",
      "{'e', 'b', 'i', 'o', 'u', 'l', 'ø', 'z', 'å', 'f', 's', 'd', 'a', 'r', 'm', 't', 'h', 'j', 'k', 'w', 'v', 'y', 'x', 'g', 'c', 'n', 'p'}\n",
      "Epsilon: 9.000000\n",
      "Ci: 27.000000\n",
      "6.494035005569458\n",
      "bengali-train-high\n",
      "Total Alphabets:\n",
      "{'ৃ', 'চ', 'ধ', 'ু', 'খ', 'ঘ', 'ঙ', 'হ', 'ল', 'ে', 'য', 'জ', 'এ', 'ষ', 'ম', 'স', 'ং', 'ব', 'প', 'ফ', 'ট', 'া', 'দ', 'ন', 'আ', 'ো', 'ঁ', 'উ', 'অ', 'ত', 'ভ', 'ক', 'ৌ', 'ী', 'শ', '্', 'র', 'ছ', 'গ', 'ঠ', 'ণ', 'ি'}\n",
      "Epsilon: 5.000000\n",
      "Ci: 42.000000\n"
     ]
    }
   ],
   "source": [
    "source_files = os.listdir(SOURCE_DATA_PATH)\n",
    "start = time.time()\n",
    "for source in source_files:\n",
    "    if source + '.json' not in os.listdir(OPN_JSON_PATH):\n",
    "        continue\n",
    "    print(source)\n",
    "    node_opn_mat = matrix_functions.gen_node_operation_matrix(OPN_JSON_PATH + source + '.json', SOURCE_DATA_PATH + source)\n",
    "    print(time.time() - start)\n",
    "    start = time.time()\n",
    "    node_opn_mat.to_pickle(NODE_OPN_STORE_PATH + source + '.p')"
   ]
  },
  {
   "cell_type": "code",
   "execution_count": null,
   "metadata": {
    "collapsed": false
   },
   "outputs": [],
   "source": [
    "# node_opn_mat = matrix_functions.gen_node_operation_matrix(OPN_JSON_PATH + 'albanian-train-low' + '.json', SOURCE_DATA_PATH + 'albanian-train-low')\n",
    "# node_opn_mat.index"
   ]
  }
 ],
 "metadata": {
  "kernelspec": {
   "display_name": "Python 3",
   "language": "python",
   "name": "python3"
  },
  "language_info": {
   "codemirror_mode": {
    "name": "ipython",
    "version": 3
   },
   "file_extension": ".py",
   "mimetype": "text/x-python",
   "name": "python",
   "nbconvert_exporter": "python",
   "pygments_lexer": "ipython3",
   "version": "3.6.0"
  }
 },
 "nbformat": 4,
 "nbformat_minor": 2
}
