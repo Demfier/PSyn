{
 "cells": [
  {
   "cell_type": "code",
   "execution_count": null,
   "metadata": {
    "collapsed": true
   },
   "outputs": [],
   "source": [
    "import pandas as pd\n",
    "import numpy as np\n",
    "from IPython.display import display\n",
    "from PSyn import matrix_functions\n",
    "import os\n",
    "import time\n",
    "OPN_JSON_PATH = 'data/task1/output/opn_dfs/op_sequence_dict/'\n",
    "SOURCE_DATA_PATH = 'data/task1/train/'\n",
    "NODE_OPN_STORE_PATH = 'data/task1/output/opn_dfs/node_opn_dfs/'"
   ]
  },
  {
   "cell_type": "code",
   "execution_count": null,
   "metadata": {
    "collapsed": false
   },
   "outputs": [
    {
     "name": "stdout",
     "output_type": "stream",
     "text": [
      "norwegian-nynorsk-train-high\n",
      "Total Alphabets:\n",
      "{'e', 'æ', 'b', 'V', 'T', '-', 'i', 'A', 'o', 'ê', 'U', 'u', 'l', 'ø', 'B', 'z', 'å', 'C', 'f', 'é', 'D', 's', 'd', 'a', 'ô', 'H', 'r', 'm', 't', 'ò', 'h', 'F', 'j', 'k', 'w', 'v', 'y', 'x', 'g', 'c', 'n', 'q', ' ', 'p'}\n",
      "Epsilon: 9.000000\n",
      "Ci: 44.000000\n"
     ]
    }
   ],
   "source": [
    "source_files = os.listdir(SOURCE_DATA_PATH)\n",
    "start = time.time()\n",
    "for source in source_files:\n",
    "    if source + '.json' not in os.listdir(OPN_JSON_PATH):\n",
    "        continue\n",
    "    print(source)\n",
    "    node_opn_mat = matrix_functions.gen_node_operation_matrix(OPN_JSON_PATH + source + '.json', SOURCE_DATA_PATH + source)\n",
    "    print(time.time() - start)\n",
    "    start = time.time()\n",
    "    node_opn_mat.to_pickle(NODE_OPN_STORE_PATH + source + '.p')"
   ]
  },
  {
   "cell_type": "code",
   "execution_count": null,
   "metadata": {
    "collapsed": false
   },
   "outputs": [],
   "source": [
    "# node_opn_mat = matrix_functions.gen_node_operation_matrix(OPN_JSON_PATH + 'albanian-train-low' + '.json', SOURCE_DATA_PATH + 'albanian-train-low')\n",
    "# node_opn_mat.index"
   ]
  }
 ],
 "metadata": {
  "kernelspec": {
   "display_name": "Python 3",
   "language": "python",
   "name": "python3"
  },
  "language_info": {
   "codemirror_mode": {
    "name": "ipython",
    "version": 3
   },
   "file_extension": ".py",
   "mimetype": "text/x-python",
   "name": "python",
   "nbconvert_exporter": "python",
   "pygments_lexer": "ipython3",
   "version": "3.6.0"
  }
 },
 "nbformat": 4,
 "nbformat_minor": 2
}
