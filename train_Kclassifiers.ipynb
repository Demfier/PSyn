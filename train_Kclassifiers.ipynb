{
 "cells": [
  {
   "cell_type": "code",
   "execution_count": 1,
   "metadata": {
    "collapsed": false
   },
   "outputs": [],
   "source": [
    "import pandas as pd\n",
    "import numpy as np\n",
    "from IPython.display import display\n",
    "from PSyn import matrix_functions\n",
    "from PSyn import brain\n",
    "import os\n",
    "import time\n",
    "SOURCE_DATA_PATH = 'data/task1/train/'"
   ]
  },
  {
   "cell_type": "code",
   "execution_count": null,
   "metadata": {
    "collapsed": false
   },
   "outputs": [],
   "source": [
    "source_files = os.listdir(SOURCE_DATA_PATH)\n",
    "source_files = ['polish-train-medium']\n",
    "start = time.time()\n",
    "for source in source_files:\n",
    "    print(source)\n",
    "    brain.train_Kmodel_classifier(source, classifier='decision_tree')\n",
    "    print(time.time() - start)\n",
    "    start = time.time()"
   ]
  },
  {
   "cell_type": "code",
   "execution_count": null,
   "metadata": {
    "collapsed": false
   },
   "outputs": [],
   "source": [
    "source_files = os.listdir(SOURCE_DATA_PATH)\n",
    "source_files = ['polish-train-medium']\n",
    "start = time.time()\n",
    "for source in source_files:\n",
    "    print(source)\n",
    "    brain.train_Kmodel_classifier(source, classifier='random_forest')\n",
    "    print(time.time() - start)\n",
    "    start = time.time()"
   ]
  }
 ],
 "metadata": {
  "kernelspec": {
   "display_name": "Python 3",
   "language": "python",
   "name": "python3"
  },
  "language_info": {
   "codemirror_mode": {
    "name": "ipython",
    "version": 3
   },
   "file_extension": ".py",
   "mimetype": "text/x-python",
   "name": "python",
   "nbconvert_exporter": "python",
   "pygments_lexer": "ipython3",
   "version": "3.6.0"
  }
 },
 "nbformat": 4,
 "nbformat_minor": 2
}
