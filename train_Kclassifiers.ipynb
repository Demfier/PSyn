{
 "cells": [
  {
   "cell_type": "code",
   "execution_count": 1,
   "metadata": {
    "collapsed": false
   },
   "outputs": [],
   "source": [
    "import pandas as pd\n",
    "import numpy as np\n",
    "from IPython.display import display\n",
    "from PSyn import matrix_functions\n",
    "from PSyn import brain\n",
    "import os\n",
    "import time\n",
    "SOURCE_DATA_PATH = 'data/task1/train/'"
   ]
  },
  {
   "cell_type": "code",
   "execution_count": 2,
   "metadata": {
    "collapsed": false
   },
   "outputs": [
    {
     "name": "stdout",
     "output_type": "stream",
     "text": [
      "polish-train-medium\n",
      "Total Alphabets:\n",
      "{'h', 'b', 'A', 'l', ' ', 'ł', 's', 'c', 'k', 'p', 'd', 'ć', 'f', 'i', 'o', 'w', 'D', 'm', 'ę', 'z', 'a', 'g', 'S', 'ż', 'F', 'ó', 'M', 'ź', 'ś', 'r', 'y', 'e', 'ą', 'j', 'ń', 'u', 't', 'n'}\n",
      "Epsilon: 8.000000\n",
      "Ci: 38.000000\n"
     ]
    },
    {
     "name": "stderr",
     "output_type": "stream",
     "text": [
      "/home/gaurav/anaconda3/lib/python3.6/site-packages/numpy/core/_methods.py:59: RuntimeWarning: Mean of empty slice.\n",
      "  warnings.warn(\"Mean of empty slice.\", RuntimeWarning)\n",
      "/home/gaurav/anaconda3/lib/python3.6/site-packages/numpy/core/_methods.py:70: RuntimeWarning: invalid value encountered in double_scalars\n",
      "  ret = ret.dtype.type(ret / rcount)\n"
     ]
    },
    {
     "name": "stdout",
     "output_type": "stream",
     "text": [
      "(453, 7719)\n",
      "87.42910313606262\n"
     ]
    }
   ],
   "source": [
    "source_files = os.listdir(SOURCE_DATA_PATH)\n",
    "source_files = ['polish-train-medium']\n",
    "start = time.time()\n",
    "for source in source_files:\n",
    "    print(source)\n",
    "    brain.train_Kmodel_classifier(source, classifier='decision_tree')\n",
    "    print(time.time() - start)\n",
    "    start = time.time()"
   ]
  },
  {
   "cell_type": "code",
   "execution_count": null,
   "metadata": {
    "collapsed": false
   },
   "outputs": [],
   "source": [
    "source_files = os.listdir(SOURCE_DATA_PATH)\n",
    "source_files = ['polish-train-medium']\n",
    "start = time.time()\n",
    "for source in source_files:\n",
    "    print(source)\n",
    "    brain.train_Kmodel_classifier(source, classifier='random_forest')\n",
    "    print(time.time() - start)\n",
    "    start = time.time()"
   ]
  }
 ],
 "metadata": {
  "kernelspec": {
   "display_name": "Python 3",
   "language": "python",
   "name": "python3"
  },
  "language_info": {
   "codemirror_mode": {
    "name": "ipython",
    "version": 3
   },
   "file_extension": ".py",
   "mimetype": "text/x-python",
   "name": "python",
   "nbconvert_exporter": "python",
   "pygments_lexer": "ipython3",
   "version": "3.6.0"
  }
 },
 "nbformat": 4,
 "nbformat_minor": 2
}
