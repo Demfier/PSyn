{
 "cells": [
  {
   "cell_type": "code",
   "execution_count": 17,
   "metadata": {
    "collapsed": false
   },
   "outputs": [
    {
     "data": {
      "text/plain": [
       "4626"
      ]
     },
     "execution_count": 17,
     "metadata": {},
     "output_type": "execute_result"
    }
   ],
   "source": [
    "import pickle as p\n",
    "lang = 'polish-train-high'\n",
    "features = list(p.load(open('data/task1/output/bigram_dfs/normalized/polish-train-high.p', 'rb')).index)\n",
    "features += list(p.load(open('data/task1/output/node_tense_card_dfs/tense/polish-train-high.p', 'rb')).index)\n",
    "features += list(p.load(open('data/task1/output/node_tense_card_dfs/card/polish-train-high.p', 'rb')).index)\n",
    "len(features)"
   ]
  },
  {
   "cell_type": "code",
   "execution_count": 13,
   "metadata": {
    "collapsed": false
   },
   "outputs": [],
   "source": [
    "f_map = {}\n",
    "for i, f in enumerate(features):\n",
    "    f_map[f] = i\n",
    "with open('feature_map_polish.p', 'wb') as j:\n",
    "    p.dump(f_map, j)"
   ]
  }
 ],
 "metadata": {
  "kernelspec": {
   "display_name": "Python 3",
   "language": "python",
   "name": "python3"
  },
  "language_info": {
   "codemirror_mode": {
    "name": "ipython",
    "version": 3
   },
   "file_extension": ".py",
   "mimetype": "text/x-python",
   "name": "python",
   "nbconvert_exporter": "python",
   "pygments_lexer": "ipython3",
   "version": "3.6.0"
  }
 },
 "nbformat": 4,
 "nbformat_minor": 2
}
