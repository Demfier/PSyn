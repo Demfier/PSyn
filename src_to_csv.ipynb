{
 "cells": [
  {
   "cell_type": "code",
   "execution_count": 1,
   "metadata": {
    "collapsed": false
   },
   "outputs": [],
   "source": [
    "import pandas as pd\n",
    "from PSyn import data_operators\n",
    "import os\n",
    "import time"
   ]
  },
  {
   "cell_type": "code",
   "execution_count": 2,
   "metadata": {
    "collapsed": true
   },
   "outputs": [],
   "source": [
    "root_path = '/home/gaurav/python-scripts/py/scripts/pg_project/BTP-ProgSyn/program_synthesis/data/'\n",
    "\n",
    "train_path = root_path + 'task1/train/'\n",
    "training_files = os.listdir(train_path)"
   ]
  },
  {
   "cell_type": "code",
   "execution_count": 3,
   "metadata": {
    "collapsed": false
   },
   "outputs": [],
   "source": [
    "store_path = root_path + 'task1/output/source_csvs/'\n",
    "already_generated_files = os.listdir(store_path)\n",
    "for file in training_files:\n",
    "    file_path = train_path + file\n",
    "    data_operators.make_csv(file_path, dest=(store_path + file))"
   ]
  }
 ],
 "metadata": {
  "kernelspec": {
   "display_name": "Python 3",
   "language": "python",
   "name": "python3"
  },
  "language_info": {
   "codemirror_mode": {
    "name": "ipython",
    "version": 3
   },
   "file_extension": ".py",
   "mimetype": "text/x-python",
   "name": "python",
   "nbconvert_exporter": "python",
   "pygments_lexer": "ipython3",
   "version": "3.6.0"
  }
 },
 "nbformat": 4,
 "nbformat_minor": 2
}
