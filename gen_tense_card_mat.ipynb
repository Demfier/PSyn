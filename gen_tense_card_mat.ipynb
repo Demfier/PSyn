{
 "cells": [
  {
   "cell_type": "code",
   "execution_count": null,
   "metadata": {
    "collapsed": true
   },
   "outputs": [],
   "source": [
    "import pandas as pd\n",
    "import numpy as np\n",
    "from IPython.display import display\n",
    "from PSyn import matrix_functions\n",
    "import os\n",
    "import time\n",
    "SOURCE_DATA_PATH = 'data/task1/train/'\n",
    "TENSE_CARD_STORE_PATH = 'data/task1/output/node_tense_card_dfs/'"
   ]
  },
  {
   "cell_type": "code",
   "execution_count": null,
   "metadata": {
    "collapsed": false
   },
   "outputs": [
    {
     "name": "stdout",
     "output_type": "stream",
     "text": [
      "norwegian-nynorsk-train-high\n",
      "Total Alphabets:\n",
      "{'s', 'h', 't', 'H', 'w', 'ò', '-', 'å', 'c', 'b', 'e', 'i', 'f', 'ê', 'n', 'T', 'd', 'z', 'C', 'u', 'F', 'B', 'l', ' ', 'a', 'v', 'A', 'p', 'D', 'g', 'm', 'o', 'æ', 'q', 'V', 'r', 'k', 'x', 'ô', 'é', 'U', 'ø', 'y', 'j'}\n",
      "Epsilon: 9.000000\n",
      "Ci: 44.000000\n"
     ]
    }
   ],
   "source": [
    "source_files = os.listdir(SOURCE_DATA_PATH)\n",
    "start = time.time()\n",
    "for source in source_files:\n",
    "    print(source)\n",
    "    (node_tense_matrix, node_card_matrix) = matrix_functions.gen_node_tense_card_matrix(SOURCE_DATA_PATH + source)\n",
    "    print(time.time() - start)\n",
    "    start = time.time()\n",
    "    node_tense_matrix.to_pickle(TENSE_CARD_STORE_PATH + 'tense/' + source + '.p')\n",
    "    node_card_matrix.to_pickle(TENSE_CARD_STORE_PATH + 'card/' + source + '.p')"
   ]
  }
 ],
 "metadata": {
  "kernelspec": {
   "display_name": "Python 3",
   "language": "python",
   "name": "python3"
  },
  "language_info": {
   "codemirror_mode": {
    "name": "ipython",
    "version": 3
   },
   "file_extension": ".py",
   "mimetype": "text/x-python",
   "name": "python",
   "nbconvert_exporter": "python",
   "pygments_lexer": "ipython3",
   "version": "3.6.0"
  }
 },
 "nbformat": 4,
 "nbformat_minor": 2
}
