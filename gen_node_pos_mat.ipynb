{
 "cells": [
  {
   "cell_type": "code",
   "execution_count": null,
   "metadata": {
    "collapsed": true
   },
   "outputs": [],
   "source": [
    "import pandas as pd\n",
    "import numpy as np\n",
    "from IPython.display import display\n",
    "from PSyn import matrix_functions\n",
    "import os\n",
    "import time\n",
    "SOURCE_DATA_PATH = 'data/task1/train/'\n",
    "POS_STORE_PATH = 'data/task1/output/node_pos_dfs/'"
   ]
  },
  {
   "cell_type": "code",
   "execution_count": null,
   "metadata": {
    "collapsed": false
   },
   "outputs": [
    {
     "name": "stdout",
     "output_type": "stream",
     "text": [
      "russian-train-high\n",
      "Total Alphabets:\n",
      "{' ', 'Ч', 'н', 'п', 'ё', 'Р', 'ъ', 'т', 'ф', 'В', 'э', 'Н', 'К', 'з', 'в', 'Э', 'О', 'П', 'Б', 'у', 'З', 'М', 'м', 'а', 'С', 'д', 'я', 'ч', 'Г', 'г', 'и', 'ю', 'ь', 'й', 'л', 'е', 'б', 'о', 'к', 'р', '-', 'ш', 'И', 'Ж', 'х', 'ц', 'Л', 'Ф', 'ы', 'щ', 'Ю', 'ж', 'с', 'А'}\n",
      "Epsilon: 10.000000\n",
      "Ci: 54.000000\n",
      "1617.6805622577667\n",
      "welsh-train-high\n",
      "Total Alphabets:\n",
      "set()\n",
      "Epsilon: 0.000000\n",
      "Ci: 0.000000\n",
      "0.22249436378479004\n",
      "armenian-train-low\n",
      "Total Alphabets:\n",
      "{'յ', 'ց', 'ղ', 'ծ', 'ա', 'վ', 'տ', 'ս', 'հ', 'խ', 'օ', 'մ', 'ր', 'զ', 'ժ', 'դ', 'լ', 'ձ', 'ճ', 'ե', 'ո', 'ռ', 'ք', 'չ', 'ն', 'ի', 'բ', 'ֆ', 'գ', 'շ', 'թ', 'կ', 'ւ', 'պ', 'ջ'}\n",
      "Epsilon: 9.000000\n",
      "Ci: 35.000000\n",
      "8.727839231491089\n",
      "french-train-high\n",
      "Total Alphabets:\n",
      "set()\n",
      "Epsilon: 0.000000\n",
      "Ci: 0.000000\n",
      "0.07799696922302246\n",
      "hindi-train-low\n",
      "Total Alphabets:\n",
      "set()\n",
      "Epsilon: 0.000000\n",
      "Ci: 0.000000\n",
      "0.012535572052001953\n",
      "bulgarian-train-low\n",
      "Total Alphabets:\n",
      "{' ', 'н', 'п', 'ъ', 'т', 'з', 'в', 'у', 'м', 'а', 'я', 'ч', 'г', 'и', 'й', 'е', 'л', 'б', 'о', 'к', 'р', 'х', 'ц', 'ж', 'с'}\n",
      "Epsilon: 10.000000\n",
      "Ci: 25.000000\n",
      "3.3718039989471436\n",
      "northern-sami-train-medium\n",
      "Total Alphabets:\n",
      "{'p', 'o', 'c', 'd', 'ŋ', 'đ', 'á', 'r', 'f', 'ŧ', 'u', 'š', 'z', 'e', 'l', 'h', 'v', 'k', 'a', 'n', 'ž', 't', 'č', 'g', 'b', 's', 'j', 'm', 'i'}\n",
      "Epsilon: 7.000000\n",
      "Ci: 29.000000\n",
      "32.8162305355072\n",
      "sorani-train-high\n",
      "Total Alphabets:\n",
      "{'p', 'o', ' ', 'd', 'r', 'q', 'f', '´', 'ľ', 'ŕ', 'š', 'z', 'y', 'e', 'l', 'h', \"'\", 'k', '_', 'a', 'ě', 'n', 'ř', 'ž', 'w', 't', 'č', 'g', 'ł', 'b', 's', 'j', 'x', 'm'}\n",
      "Epsilon: 6.000000\n",
      "Ci: 34.000000\n",
      "68.6624813079834\n",
      "hungarian-train-medium\n",
      "Total Alphabets:\n",
      "{'p', 'o', 'ő', 'A', 'c', 'd', 'á', 'r', 'é', 'ö', 'I', 'f', 'ú', 'u', 'M', 'z', 'y', 'ű', 'e', 'l', 'R', 'F', 'h', 'k', 'í', 'v', 'C', '.', 'K', '-', 'a', 'S', 'n', 'w', 'ó', 't', 'g', 'Á', 'b', 'ü', 's', 'j', 'x', 'm', 'i'}\n",
      "Epsilon: 9.000000\n",
      "Ci: 45.000000\n",
      "305.55955719947815\n",
      "navajo-train-low\n",
      "Total Alphabets:\n",
      "{'o', 'c', 'd', 'ʼ', 'á', 'é', 'z', 'y', 'e', 'l', 'h', 'í', 'k', 'a', 'n', 't', 'ł', 'b', 's', 'j', 'i'}\n",
      "Epsilon: 6.000000\n",
      "Ci: 21.000000\n",
      "2.2522027492523193\n",
      "ukrainian-train-low\n",
      "Total Alphabets:\n",
      "{'н', 'п', 'ф', 'т', 'ї', 'з', 'в', 'є', 'у', 'м', 'а', 'д', 'і', 'я', 'ч', 'г', 'и', 'ю', 'ь', 'й', 'е', 'л', 'б', 'о', 'к', 'р', 'ш', 'х', 'ц', 'ж', 'с'}\n",
      "Epsilon: 7.000000\n",
      "Ci: 31.000000\n",
      "14.96156907081604\n",
      "basque-train-low\n",
      "Total Alphabets:\n",
      "set()\n",
      "Epsilon: 0.000000\n",
      "Ci: 0.000000\n",
      "0.019369840621948242\n",
      "urdu-train-low\n",
      "Total Alphabets:\n",
      "{'ئ', 'ف', 'ب', 'و', 'ج', 'ک', 'ز', 'ش', 'ی', 'د', 'ل', 'گ', 'ت', 'ا', 'ن', 'ر', 'ص', 'ہ', 'س'}\n",
      "Epsilon: 4.000000\n",
      "Ci: 19.000000\n",
      "0.6555571556091309\n",
      "hungarian-train-high\n",
      "Total Alphabets:\n",
      "{'p', 'o', ' ', 'ő', 'A', 'c', 'U', 'V', 'd', 'H', 'L', 'á', 'r', 'é', 'W', 'ö', 'I', 'f', 'G', 'ú', 'u', 'E', 'P', 'M', 'z', 'y', 'ű', 'e', 'l', 'R', 'F', 'D', 'h', 'k', 'í', 'v', 'C', '.', 'K', '-', 'a', 'S', 'n', 'w', 'ó', 't', 'g', 'Á', 'T', 'b', 'ü', 'O', 's', 'j', 'x', 'm', 'i'}\n",
      "Epsilon: 10.000000\n",
      "Ci: 57.000000\n"
     ]
    }
   ],
   "source": [
    "source_files = os.listdir(SOURCE_DATA_PATH)\n",
    "start = time.time()\n",
    "for source in source_files:\n",
    "    if source + '.p' in os.listdir(POS_STORE_PATH):\n",
    "        continue\n",
    "    print(source)\n",
    "    node_pos_matrix = matrix_functions.gen_node_pos_matrix(SOURCE_DATA_PATH + source)\n",
    "    print(time.time() - start)\n",
    "    start = time.time()\n",
    "    node_pos_matrix.to_pickle(POS_STORE_PATH + source + '.p')"
   ]
  }
 ],
 "metadata": {
  "kernelspec": {
   "display_name": "Python 3",
   "language": "python",
   "name": "python3"
  },
  "language_info": {
   "codemirror_mode": {
    "name": "ipython",
    "version": 3
   },
   "file_extension": ".py",
   "mimetype": "text/x-python",
   "name": "python",
   "nbconvert_exporter": "python",
   "pygments_lexer": "ipython3",
   "version": "3.6.0"
  }
 },
 "nbformat": 4,
 "nbformat_minor": 2
}
