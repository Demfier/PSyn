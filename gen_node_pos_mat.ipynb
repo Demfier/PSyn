{
 "cells": [
  {
   "cell_type": "code",
   "execution_count": null,
   "metadata": {
    "collapsed": true
   },
   "outputs": [],
   "source": [
    "import pandas as pd\n",
    "import numpy as np\n",
    "from IPython.display import display\n",
    "from PSyn import matrix_functions\n",
    "import os\n",
    "import time\n",
    "SOURCE_DATA_PATH = 'data/task1/train/'\n",
    "POS_STORE_PATH = 'data/task1/output/node_pos_dfs/'"
   ]
  },
  {
   "cell_type": "code",
   "execution_count": null,
   "metadata": {
    "collapsed": false
   },
   "outputs": [
    {
     "name": "stdout",
     "output_type": "stream",
     "text": [
      "irish-train-medium\n",
      "Total Alphabets:\n",
      "{'ó', 'V', 'c', 'n', '-', 'u', 'v', 'r', 'é', 'E', 'F', 'h', 'b', ' ', 'g', 'f', 't', 'a', 'G', 'i', 'd', 'M', 'p', 'l', 'o', 'B', 'j', 'A', 'L', 'X', 'P', 'í', 'á', 'C', 'S', 'e', 'm', 'x', 'ú', 'N', 'D', 's'}\n",
      "Epsilon: 10.000000\n",
      "Ci: 42.000000\n",
      "171.86261558532715\n",
      "armenian-train-medium\n",
      "Total Alphabets:\n",
      "{'կ', 'բ', 'ի', 'ճ', 'խ', 'փ', 'ր', 'ծ', 'ֆ', ' ', 'ք', 'լ', 'գ', 'ո', 'օ', 'չ', 'ը', 'ս', 'ռ', 'դ', 'թ', 'շ', 'հ', 'մ', 'ղ', 'ն', 'ե', 'է', 'ժ', 'պ', 'ջ', 'յ', 'ց', 'ւ', 'ձ', 'վ', 'զ', 'ա', 'տ'}\n",
      "Epsilon: 8.000000\n",
      "Ci: 39.000000\n",
      "79.33879351615906\n",
      "swedish-train-low\n",
      "Total Alphabets:\n",
      "{'ä', 'c', 'n', 'u', 'v', 'r', 'h', 'b', ' ', 'g', 'å', 'f', 't', 'a', 'i', 'd', 'y', 'p', 'l', 'o', 'j', 'L', 'ö', 'k', 'e', 'm', 'x', 's'}\n",
      "Epsilon: 10.000000\n",
      "Ci: 28.000000\n",
      "10.034723281860352\n",
      "khaling-train-medium\n",
      "Total Alphabets:\n",
      "set()\n",
      "Epsilon: 0.000000\n",
      "Ci: 0.000000\n",
      "0.027515172958374023\n",
      "kurmanji-train-high\n",
      "Total Alphabets:\n",
      "{'h', 'e', 'f', 't', 's', 'ê'}\n",
      "Epsilon: 5.000000\n",
      "Ci: 6.000000\n",
      "0.17921066284179688\n",
      "norwegian-bokmal-train-high\n",
      "Total Alphabets:\n",
      "{'ø', 'c', 'n', 'u', '-', 'v', 'r', 'é', 'h', 'z', 'b', ' ', 'g', 'å', 'f', 't', 'w', 'a', 'i', 'd', 'y', 'p', 'U', 'H', 'l', 'o', 'B', 'j', 'A', 'S', 'k', 'T', 'e', 'm', 'æ', 'q', 'x', 'ü', 's'}\n",
      "Epsilon: 9.000000\n",
      "Ci: 39.000000\n",
      "1470.529613494873\n",
      "english-train-medium\n",
      "Total Alphabets:\n",
      "set()\n",
      "Epsilon: 0.000000\n",
      "Ci: 0.000000\n",
      "0.0626986026763916\n",
      "lower-sorbian-train-high\n",
      "Total Alphabets:\n",
      "{'ó', 'ž', 'c', 'ḿ', 'n', 'u', 'r', 'ń', 'h', 'z', 'b', ' ', 'g', 'ł', 'ć', 'š', 'f', 't', 'w', 'a', 'i', 'd', 'y', 'p', 'ŕ', 'l', 'o', 'č', 'j', 'A', 'ě', 'P', 'ś', 'k', 'ź', 'e', 'm', 'S', 'N', 'D', 's'}\n",
      "Epsilon: 6.000000\n",
      "Ci: 41.000000\n"
     ]
    }
   ],
   "source": [
    "source_files = os.listdir(SOURCE_DATA_PATH)\n",
    "start = time.time()\n",
    "for source in source_files:\n",
    "    if source + '.p' in os.listdir(POS_STORE_PATH):\n",
    "        continue\n",
    "    print(source)\n",
    "    node_pos_matrix = matrix_functions.gen_node_pos_matrix(SOURCE_DATA_PATH + source)\n",
    "    print(time.time() - start)\n",
    "    start = time.time()\n",
    "    node_pos_matrix.to_pickle(POS_STORE_PATH + source + '.p')"
   ]
  }
 ],
 "metadata": {
  "kernelspec": {
   "display_name": "Python 3",
   "language": "python",
   "name": "python3"
  },
  "language_info": {
   "codemirror_mode": {
    "name": "ipython",
    "version": 3
   },
   "file_extension": ".py",
   "mimetype": "text/x-python",
   "name": "python",
   "nbconvert_exporter": "python",
   "pygments_lexer": "ipython3",
   "version": "3.6.0"
  }
 },
 "nbformat": 4,
 "nbformat_minor": 2
}
