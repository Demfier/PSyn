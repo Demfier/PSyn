{
 "cells": [
  {
   "cell_type": "code",
   "execution_count": 1,
   "metadata": {
    "collapsed": false
   },
   "outputs": [],
   "source": [
    "import pandas as pd\n",
    "import numpy as np\n",
    "from IPython.display import display\n",
    "from PSyn import matrix_functions\n",
    "from PSyn import brain\n",
    "import os\n",
    "import time\n",
    "SOURCE_DATA_PATH = 'data/task1/dev/'\n",
    "from collections import Counter"
   ]
  },
  {
   "cell_type": "code",
   "execution_count": null,
   "metadata": {
    "collapsed": false,
    "scrolled": false
   },
   "outputs": [],
   "source": [
    "source_files = os.listdir(SOURCE_DATA_PATH)\n",
    "source = 'polish-train-medium'\n",
    "# source_files = ['polish-train-medium']\n",
    "\n",
    "start = time.time()\n",
    "# for source in source_files:\n",
    "print(source)\n",
    "prf, total_corect, global_attr, total_entries, correct_inflections, macro_prf = brain.test_model_accuracy(source, classifier='decision_tree')\n",
    "# print(time.time() - start)\n",
    "start = time.time()\n",
    "print('Macro PRF:', )\n",
    "print('Guessed %d inflections correctly out of %d.\\nAccuracy: %f' % (total_corect, total_entries, (total_corect * 100 / float(total_entries))))"
   ]
  },
  {
   "cell_type": "code",
   "execution_count": null,
   "metadata": {
    "collapsed": false,
    "scrolled": true
   },
   "outputs": [],
   "source": [
    "source_files = os.listdir(SOURCE_DATA_PATH)\n",
    "source = 'polish-train-medium'\n",
    "# source_files = ['polish-train-medium']\n",
    "\n",
    "start = time.time()\n",
    "# for source in source_files:\n",
    "print(source)\n",
    "prf, total_corect, global_attr, total_entries, correct_inflections, macro_prf = brain.test_model_accuracy(source, classifier='random_forest')\n",
    "# print(time.time() - start)\n",
    "start = time.time()\n",
    "print('Macro PRF:', )\n",
    "print('Guessed %d inflections correctly out of %d.\\nAccuracy: %f' % (total_corect, total_entries, (total_corect * 100 / float(total_entries))))"
   ]
  },
  {
   "cell_type": "code",
   "execution_count": null,
   "metadata": {
    "collapsed": false
   },
   "outputs": [],
   "source": [
    "global_attr"
   ]
  },
  {
   "cell_type": "code",
   "execution_count": null,
   "metadata": {
    "collapsed": false
   },
   "outputs": [],
   "source": [
    "o = pd.DataFrame.from_dict(correct_inflections)\n",
    "ops_ = {}\n",
    "for key in o.columns.values:\n",
    "    ops_[key] = []\n",
    "    for i, _ in enumerate(o[key]):\n",
    "        if _:\n",
    "            ops_[key].append(o[key].index.values[i])\n",
    "pd.DataFrame.from_dict({'source': list(ops_.keys()), 'opn_sequence': list(ops_.values())})"
   ]
  },
  {
   "cell_type": "code",
   "execution_count": null,
   "metadata": {
    "collapsed": false
   },
   "outputs": [],
   "source": [
    "prf_values = list(prf.values())\n",
    "prf_keys = list(prf.keys())\n",
    "prf_df = pd.DataFrame.from_dict({'operation': [_.split('_')[0] for _ in prf_keys],\n",
    "                                 'char': [_.split('_')[1] for _ in prf_keys],\n",
    "                                 'lpos': [_.split('_')[2] for _ in prf_keys],\n",
    "                                 'rpos': [_.split('_')[3] for _ in prf_keys],\n",
    "                                 'precision': [_[0] for _ in prf_values],\n",
    "                                 'recall': [_[1] for _ in prf_values],\n",
    "                                 'f_score': [_[2] for _ in prf_values]})\n",
    "display(prf_df.head())\n",
    "P = [ e[0] for e in list(prf.values())]\n",
    "R = [ e[1] for e in list(prf.values())]\n",
    "F = [ e[2] for e in list(prf.values())]\n",
    "print(np.mean(P), np.mean(R), np.mean(F))"
   ]
  },
  {
   "cell_type": "code",
   "execution_count": null,
   "metadata": {
    "collapsed": false
   },
   "outputs": [],
   "source": [
    "import seaborn as sns\n",
    "import matplotlib.pyplot as plt\n",
    "print('Model-wise boxplots for full-length bitstrings')\n",
    "plt.clf()\n",
    "box_plot = sns.boxplot(x='operation', y='precision', data=prf_df)\n",
    "display(box_plot.get_figure())\n",
    "plt.clf()\n",
    "box_plot = sns.boxplot(x='operation', y='recall', data=prf_df)\n",
    "display(box_plot.get_figure())\n",
    "plt.clf()\n",
    "box_plot = sns.boxplot(x='operation', y='f_score', data=prf_df)\n",
    "display(box_plot.get_figure())\n",
    "plt.clf()\n",
    "box_plot = sns.boxplot(x='char', y='precision', data=prf_df)\n",
    "display(box_plot.get_figure())"
   ]
  },
  {
   "cell_type": "code",
   "execution_count": null,
   "metadata": {
    "collapsed": false
   },
   "outputs": [],
   "source": [
    "# Load graphs of classifiers\n",
    "import pickle\n",
    "import os\n",
    "from sklearn import tree\n",
    "LABELS_PATH = 'data/task1/output/labels/'\n",
    "# features = list(pickle.load(open('data/task1/output/bigram_dfs/normalized/polish-train-medium.p', 'rb')).columns.values)\n",
    "# features = np.concatenate((features, o.index.values))\n",
    "labels = pickle.load(open(LABELS_PATH + 'polish-train-medium.p', 'rb'))\n",
    "clf_path = 'data/task1/output/prediction/polish-train-medium/'\n",
    "dtrees = [pickle.load(open(clf_path + clf, 'rb')) for clf in os.listdir(clf_path)]\n",
    "for i, t in enumerate(os.listdir(clf_path)):\n",
    "    tree.export_graphviz(dtrees[i], out_file='dotfiles/' + t.replace('.p', '.dot'))\n",
    "\n",
    "from subprocess import check_call\n",
    "for dot_f in os.listdir('dotfiles/'):\n",
    "    check_call(['dot','-Tpng',('dotfiles/' + dot_f),'-o','pngs/' + dot_f.replace('.dot', '.png')])"
   ]
  },
  {
   "cell_type": "code",
   "execution_count": null,
   "metadata": {
    "collapsed": false
   },
   "outputs": [],
   "source": []
  }
 ],
 "metadata": {
  "kernelspec": {
   "display_name": "Python 3",
   "language": "python",
   "name": "python3"
  },
  "language_info": {
   "codemirror_mode": {
    "name": "ipython",
    "version": 3
   },
   "file_extension": ".py",
   "mimetype": "text/x-python",
   "name": "python",
   "nbconvert_exporter": "python",
   "pygments_lexer": "ipython3",
   "version": "3.6.0"
  }
 },
 "nbformat": 4,
 "nbformat_minor": 2
}
