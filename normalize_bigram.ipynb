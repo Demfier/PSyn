{
 "cells": [
  {
   "cell_type": "code",
   "execution_count": 1,
   "metadata": {
    "collapsed": true
   },
   "outputs": [],
   "source": [
    "import pandas as pd\n",
    "import numpy as np\n",
    "from PSyn import matrix_functions\n",
    "from PSyn import data_operators\n",
    "import os\n",
    "import time\n",
    "from IPython.display import display"
   ]
  },
  {
   "cell_type": "code",
   "execution_count": null,
   "metadata": {
    "collapsed": true
   },
   "outputs": [],
   "source": [
    "root_path = '/home/gaurav/python-scripts/py/scripts/pg_project/BTP-ProgSyn/program_synthesis/data/'\n",
    "\n",
    "sparse_bg_df_path = root_path + 'task1/output/bigram_dfs/not_normalized/'\n",
    "sparse_bgs = os.listdir(sparse_bg_df_path)"
   ]
  },
  {
   "cell_type": "code",
   "execution_count": null,
   "metadata": {
    "collapsed": false
   },
   "outputs": [
    {
     "name": "stdout",
     "output_type": "stream",
     "text": [
      "norwegian-nynorsk-train-high.p\n"
     ]
    }
   ],
   "source": [
    "store_path = root_path + 'task1/output/bigram_dfs/normalized/'\n",
    "for bg in sparse_bgs:\n",
    "    if bg in os.listdir(store_path):\n",
    "        continue\n",
    "    print(bg)\n",
    "    bg_mat = pd.read_pickle(sparse_bg_df_path + bg)\n",
    "    normalized = matrix_functions.normalize_mat(bg_mat)\n",
    "    matrix_functions.store_matrix(normalized, bg, store_path + bg)"
   ]
  }
 ],
 "metadata": {
  "kernelspec": {
   "display_name": "Python 3",
   "language": "python",
   "name": "python3"
  },
  "language_info": {
   "codemirror_mode": {
    "name": "ipython",
    "version": 3
   },
   "file_extension": ".py",
   "mimetype": "text/x-python",
   "name": "python",
   "nbconvert_exporter": "python",
   "pygments_lexer": "ipython3",
   "version": "3.6.0"
  }
 },
 "nbformat": 4,
 "nbformat_minor": 2
}
