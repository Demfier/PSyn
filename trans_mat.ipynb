{
 "cells": [
  {
   "cell_type": "code",
   "execution_count": 1,
   "metadata": {
    "collapsed": true
   },
   "outputs": [],
   "source": [
    "import pandas as pd\n",
    "import numpy as np\n",
    "from PSyn import matrix_functions\n",
    "from PSyn import data_operators\n",
    "import os\n",
    "import time"
   ]
  },
  {
   "cell_type": "code",
   "execution_count": null,
   "metadata": {
    "collapsed": true
   },
   "outputs": [],
   "source": [
    "root_path = '/home/gaurav/python-scripts/py/scripts/pg_project/BTP-ProgSyn/program_synthesis/data/'\n",
    "\n",
    "train_path = root_path + 'task1/train/'\n",
    "training_files = os.listdir(train_path)"
   ]
  },
  {
   "cell_type": "code",
   "execution_count": null,
   "metadata": {
    "collapsed": false
   },
   "outputs": [
    {
     "name": "stdout",
     "output_type": "stream",
     "text": [
      "Making Bigram Character Dataframe for norwegian-nynorsk-train-high\n",
      "Total Alphabets:\n",
      "{'w', 'æ', 'C', 'g', 'v', 'ø', 'ô', 'y', 'f', 'U', 'm', 'k', 'F', 'å', 'a', 'D', 'u', 'n', 'T', 'c', 'e', 'V', 'H', 'b', 'o', 'A', 'r', 'p', 'i', 'h', 'B', 'd', 'é', 'x', 'q', 'ò', 'z', 'ê', 'j', ' ', '-', 's', 't', 'l'}\n",
      "Epsilon: 8.000000\n",
      "Ci: 44.000000\n",
      "N: 44.000000*(8.000000 + 1)^2 = 3564.000000\n",
      "\n",
      "Initialized Bigram Datafram for norwegian-nynorsk-train-high of size 12702096.000000\n",
      "venezuelan 0.023\n"
     ]
    }
   ],
   "source": [
    "already_generated_files = os.listdir(root_path + 'task1/output/bigram_dfs/')\n",
    "for file in training_files:\n",
    "    if (file + '.p') in already_generated_files:\n",
    "        continue\n",
    "    file_path = train_path + file\n",
    "    data = data_operators.make_dataframe(file_path, seperator='\\t', names=['source_word', 'final_form', 'source_prop'])\n",
    "    matrix_functions.bigram_df(file_path)"
   ]
  }
 ],
 "metadata": {
  "kernelspec": {
   "display_name": "Python 3",
   "language": "python",
   "name": "python3"
  },
  "language_info": {
   "codemirror_mode": {
    "name": "ipython",
    "version": 3
   },
   "file_extension": ".py",
   "mimetype": "text/x-python",
   "name": "python",
   "nbconvert_exporter": "python",
   "pygments_lexer": "ipython3",
   "version": "3.6.0"
  }
 },
 "nbformat": 4,
 "nbformat_minor": 2
}
