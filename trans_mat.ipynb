{
 "cells": [
  {
   "cell_type": "code",
   "execution_count": 1,
   "metadata": {
    "collapsed": false
   },
   "outputs": [],
   "source": [
    "import pandas as pd\n",
    "import numpy as np\n",
    "from PSyn import matrix_functions\n",
    "from PSyn import data_operators\n",
    "import os\n",
    "import time\n",
    "from IPython.display import display"
   ]
  },
  {
   "cell_type": "code",
   "execution_count": null,
   "metadata": {
    "collapsed": false
   },
   "outputs": [],
   "source": [
    "root_path = '/home/gaurav/python-scripts/py/scripts/pg_project/BTP-ProgSyn/program_synthesis/data/'\n",
    "\n",
    "train_path = root_path + 'task1/train/'\n",
    "training_files = os.listdir(train_path)"
   ]
  },
  {
   "cell_type": "code",
   "execution_count": null,
   "metadata": {
    "collapsed": false
   },
   "outputs": [
    {
     "name": "stdout",
     "output_type": "stream",
     "text": [
      "welsh-train-low\n",
      "haida-train-high\n",
      "basque-train-medium\n",
      "dutch-train-high\n",
      "dutch-train-low\n",
      "haida-train-medium\n",
      "german-train-high\n",
      "Total Alphabets:\n",
      "{'P', 'ß', 'g', 'J', 'v', 'M', 'Q', 'C', 'l', 'j', 'V', 'ü', 'b', 'e', 'Z', 'W', 'i', 'n', 'p', 'B', 't', 'x', 'y', 'w', 'F', 'Ä', 'Ö', 'h', 'ö', 'I', 'E', 'é', 'T', 'Å', 'Ü', 'r', ' ', 'f', 'K', 'q', 'c', 'm', 'N', 'S', 'L', 'a', 's', 'H', '-', 'A', 'Y', 'U', 'à', 'k', 'ä', 'X', 'z', 'G', 'R', 'o', 'u', 'D', 'O', 'd'}\n",
      "Epsilon: 11.000000\n",
      "Ci: 64.000000\n",
      "N: 64.000000*(11.000000 + 1)^2 = 9216.000000\n",
      "\n",
      "Making trans_mat\n"
     ]
    }
   ],
   "source": [
    "already_generated_files = os.listdir(root_path + 'task1/output/bigram_dfs/not_normalized/')\n",
    "# training_files = ['urdu-train-low']\n",
    "for file in training_files:\n",
    "    if (file + '.p') in already_generated_files:\n",
    "        continue\n",
    "    print(file)\n",
    "    file_path = train_path + file\n",
    "    filename = root_path + 'task1/output/source_csvs/' + file\n",
    "    source_data = pd.read_csv(filename)\n",
    "    source_data = source_data[source_data['pos'] == 'N'].dropna(axis=1)\n",
    "    if source_data.empty:\n",
    "        continue\n",
    "    del source_data['Unnamed: 0']\n",
    "    matrix_functions.bigram_mat_nx(source_data, file, root_path + 'task1/output/bigram_dfs/not_normalized/')"
   ]
  },
  {
   "cell_type": "code",
   "execution_count": null,
   "metadata": {
    "collapsed": false
   },
   "outputs": [],
   "source": [
    "urdu = pd.read_pickle('/home/gaurav/python-scripts/py/scripts/pg_project/BTP-ProgSyn/program_synthesis/data/task1/output/bigram_dfs/urdu-train-high.p')\n",
    "urdu.max().max()"
   ]
  }
 ],
 "metadata": {
  "kernelspec": {
   "display_name": "Python 3",
   "language": "python",
   "name": "python3"
  },
  "language_info": {
   "codemirror_mode": {
    "name": "ipython",
    "version": 3
   },
   "file_extension": ".py",
   "mimetype": "text/x-python",
   "name": "python",
   "nbconvert_exporter": "python",
   "pygments_lexer": "ipython3",
   "version": "3.6.0"
  }
 },
 "nbformat": 4,
 "nbformat_minor": 2
}
