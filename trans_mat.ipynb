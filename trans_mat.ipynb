{
 "cells": [
  {
   "cell_type": "code",
   "execution_count": 1,
   "metadata": {
    "collapsed": true
   },
   "outputs": [],
   "source": [
    "import pandas as pd\n",
    "import numpy as np\n",
    "from PSyn import matrix_functions\n",
    "from PSyn import data_operators\n",
    "import os\n",
    "import time"
   ]
  },
  {
   "cell_type": "code",
   "execution_count": 2,
   "metadata": {
    "collapsed": false
   },
   "outputs": [],
   "source": [
    "root_path = '/home/gaurav/python-scripts/py/scripts/pg_project/BTP-ProgSyn/program_synthesis/data/'\n",
    "\n",
    "train_path = root_path + 'task1/train/'\n",
    "training_files = os.listdir(train_path)"
   ]
  },
  {
   "cell_type": "code",
   "execution_count": null,
   "metadata": {
    "collapsed": false
   },
   "outputs": [
    {
     "name": "stdout",
     "output_type": "stream",
     "text": [
      "Making Bigram Character Dataframe for finnish-train-high\n",
      "Total Alphabets:\n",
      "{'j', 'ä', 'q', 'M', 'l', '-', '/', 'w', 'N', 'E', 'p', 'P', 'd', ' ', 'o', 't', 'a', ',', 'R', 'c', 'f', 'n', 'i', 'b', 'g', 'k', 'C', 'e', 'S', 'U', 'I', 'r', 'A', \"'\", '4', 's', 'h', 'š', 'å', 'H', 'ö', 'y', 'u', 'm', 'z', 'é', 'x', 'ž', 'v'}\n",
      "Epsilon: 12.000000\n",
      "Ci: 49.000000\n",
      "N: 49.000000*(12.000000 + 1)^2 = 8281.000000\n",
      "\n",
      "Initialized Bigram Dataframe formation for finnish-train-high\n",
      "5.208"
     ]
    }
   ],
   "source": [
    "already_generated_files = os.listdir(root_path + 'task1/output/bigram_dfs/')\n",
    "training_files = ['finnish-train-high']\n",
    "for file in training_files:\n",
    "#     if (file + '.p') in already_generated_files:\n",
    "#         continue\n",
    "    file_path = train_path + file\n",
    "    matrix_functions.bigram_df(root_path + 'task1/output/source_csvs/' + file, root_path + 'task1/output/bigram_dfs/')"
   ]
  },
  {
   "cell_type": "code",
   "execution_count": null,
   "metadata": {
    "collapsed": false
   },
   "outputs": [],
   "source": [
    "df = pd.read_pickle(root_path + 'task1/output/bigram_dfs/finnish-train-high.p')"
   ]
  }
 ],
 "metadata": {
  "kernelspec": {
   "display_name": "Python 3",
   "language": "python",
   "name": "python3"
  },
  "language_info": {
   "codemirror_mode": {
    "name": "ipython",
    "version": 3
   },
   "file_extension": ".py",
   "mimetype": "text/x-python",
   "name": "python",
   "nbconvert_exporter": "python",
   "pygments_lexer": "ipython3",
   "version": "3.6.0"
  }
 },
 "nbformat": 4,
 "nbformat_minor": 2
}
