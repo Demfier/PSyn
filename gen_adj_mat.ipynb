{
 "cells": [
  {
   "cell_type": "code",
   "execution_count": 1,
   "metadata": {
    "collapsed": false,
    "scrolled": true
   },
   "outputs": [
    {
     "data": {
      "text/plain": [
       "100"
      ]
     },
     "execution_count": 1,
     "metadata": {},
     "output_type": "execute_result"
    }
   ],
   "source": [
    "import pandas as pd\n",
    "data = pd.read_csv('data/task1/train/hindi-train-low', sep='\\t',names=['source_word', 'final_form', 'prop'])\n",
    "source_words = data['source_word'].unique()\n",
    "len(data)"
   ]
  },
  {
   "cell_type": "code",
   "execution_count": 2,
   "metadata": {
    "collapsed": false
   },
   "outputs": [
    {
     "name": "stdout",
     "output_type": "stream",
     "text": [
      "{'घ', 'ु', 'र', 'व', 'ख', 'ा', 'ि', 'न', 'ह', 'ग', 'फ', 'ै', 'ब', 'ड', 'ल', 'छ', '्', 'त', 'ू', 'य', 'स', 'श', 'ढ', 'ो', 'प', 'अ', 'ऐ', 'थ', 'झ', 'द', 'े', 'ँ', 'क', 'ं', 'ट', 'ठ', 'ी', 'उ', 'च', ' ', 'ध', 'इ', 'म', 'ज', '़'} 45\n"
     ]
    }
   ],
   "source": [
    "alphabets = set()\n",
    "for source in source_words:\n",
    "    for alphabet in source:\n",
    "        alphabets.add(alphabet)\n",
    "print(alphabets, len(alphabets))"
   ]
  },
  {
   "cell_type": "code",
   "execution_count": 3,
   "metadata": {
    "collapsed": false,
    "scrolled": true
   },
   "outputs": [
    {
     "data": {
      "text/plain": [
       "{4: 9, 5: 31, 6: 16, 7: 5, 8: 3, 9: 3, 10: 6, 11: 4, 12: 4, 13: 4}"
      ]
     },
     "execution_count": 3,
     "metadata": {},
     "output_type": "execute_result"
    }
   ],
   "source": [
    "mapping = dict()\n",
    "for source in source_words:\n",
    "    l = len(source)\n",
    "    if l not in mapping.keys():\n",
    "        mapping[l] = 1\n",
    "        continue\n",
    "    mapping[l] += 1\n",
    "mapping"
   ]
  },
  {
   "cell_type": "code",
   "execution_count": null,
   "metadata": {
    "collapsed": false
   },
   "outputs": [],
   "source": [
    "EPSILON = 8  # Looking at the above frequency distribution\n",
    "Ci = len(alphabets)"
   ]
  },
  {
   "cell_type": "code",
   "execution_count": null,
   "metadata": {
    "collapsed": false
   },
   "outputs": [],
   "source": [
    "import numpy as np\n",
    "# *****************Start-Generate Matrix*******************\n",
    "\n",
    "# Function to generate character id of the form char_i_j_k\n",
    "def gen_cid(char, L, R):\n",
    "    \"\"\"\n",
    "    Returns charater id:\n",
    "    char -> character\n",
    "    L -> Postion of character from LEFT\n",
    "    R -> Postion of character from RIGHT(negative)\n",
    "    \"\"\"\n",
    "    return(char + '_' + str(L) + '_' + str(R))\n",
    "\n",
    "# Generate character ids\n",
    "cids = []\n",
    "for c in alphabets:\n",
    "    for i in range(EPSILON + 1):\n",
    "        for j in range(EPSILON + 1):\n",
    "            cid = gen_cid(c, i, -j)\n",
    "            cids.append(cid)\n",
    "print(len(cids))\n",
    "assert len(cids) == Ci*pow(EPSILON + 1, 2)  # Check for the correct number of entries"
   ]
  },
  {
   "cell_type": "code",
   "execution_count": null,
   "metadata": {
    "collapsed": false
   },
   "outputs": [],
   "source": [
    "# Initialize Adjaceny Matrix\n",
    "adj_mat = pd.DataFrame(data=np.zeros(shape=(len(cids), len(cids))), columns=cids, index=cids)"
   ]
  },
  {
   "cell_type": "code",
   "execution_count": null,
   "metadata": {
    "collapsed": false,
    "scrolled": true
   },
   "outputs": [],
   "source": [
    "def cid_exists(cid, matrix):\n",
    "    \"\"\"Checks if cid is present in matrix's keys\"\"\"\n",
    "    return(True if cid in matrix else False)\n",
    "\n",
    "# Note: This entire loop takes around 36 minutes for EPSILON = 16, Ci = 37 (Russian)\n",
    "# ToDo: Multithreading\n",
    "for source in source_words:\n",
    "    s_l = len(source)\n",
    "    for (i, c_1) in enumerate(source):\n",
    "        cid_1 = gen_cid(c_1, i + 1, i - s_l)\n",
    "\n",
    "        # cid_1 subset\n",
    "        subset_cid_1 = [gen_cid(c_1, 0, i - s_l), gen_cid(c_1, i, 0), gen_cid(c_1, 0, 0)]\n",
    "\n",
    "        for (j, c_2) in enumerate(source):\n",
    "            cid_2 = gen_cid(c_2, j + 1, j - s_l)\n",
    "\n",
    "            # Case 1 (1): cid_1 --> cid_2\n",
    "            if cid_exists(cid_1, adj_mat) and cid_exists(cid_2, adj_mat[cid_1]):\n",
    "                adj_mat[cid_1][cid_2] += 1\n",
    "\n",
    "            # cid_2 subset\n",
    "            subset_cid_2 = [gen_cid(c_2, 0, j - s_l), gen_cid(c_2, j, 0), gen_cid(c_2, 0, 0)]\n",
    "            \n",
    "            # Case 2 (3): cid_1 --> sub(cid_2)\n",
    "            for cid in subset_cid_2:\n",
    "                if cid_exists(cid_1, adj_mat) and cid_exists(cid, adj_mat[cid_1]):\n",
    "                    adj_mat[cid_1][cid] += 1\n",
    "                    \n",
    "            \n",
    "            # Case 3 (3): sub(cid_1) --> cid_2\n",
    "            for cid in subset_cid_1:\n",
    "                if cid_exists(cid, adj_mat) and cid_exists(cid_2, adj_mat[cid]):\n",
    "                    adj_mat[cid][cid_2] += 1\n",
    "            \n",
    "            # Case 4 (9): sub(cid_1) --> sub(cid_2)\n",
    "            for s_cid_1 in subset_cid_1:\n",
    "                for s_cid_2 in subset_cid_2:\n",
    "                    if cid_exists(s_cid_1, adj_mat) and cid_exists(s_cid_2, adj_mat[s_cid_1]):\n",
    "                        adj_mat[s_cid_1][s_cid_2] += 1"
   ]
  },
  {
   "cell_type": "code",
   "execution_count": null,
   "metadata": {
    "collapsed": false,
    "scrolled": true
   },
   "outputs": [],
   "source": [
    "# for (i, cid) in enumerate(adj_mat):\n",
    "#     vec_sum = 0.0\n",
    "#     for cid2 in adj_mat[cid]:\n",
    "#         print adj_mat[cid][0]\n",
    "#         vec_sum += adj_mat[cid][cid2]\n",
    "#     for cid2 in adj_mat[cid]:\n",
    "#         adj_mat[cid][cid2] /= vec_sum"
   ]
  },
  {
   "cell_type": "code",
   "execution_count": null,
   "metadata": {
    "collapsed": false
   },
   "outputs": [],
   "source": [
    "# If dataframe size increases too much\n",
    "# for (i, smaller_df) in enumerate(np.array_split(adj_mat, 10)):\n",
    "#     smaller_df.to_pickle('Matrices/russian/russian_' + str(i) + '.p')\n",
    "# adj_mat.to_pickle('Matrices/russian.p')\n",
    "adj_mat"
   ]
  },
  {
   "cell_type": "code",
   "execution_count": null,
   "metadata": {
    "collapsed": false
   },
   "outputs": [],
   "source": [
    "(pd.to_pickle('Matrices/maltese_2_e_8.p')['b_1_0']['b_1_0'])"
   ]
  }
 ],
 "metadata": {
  "kernelspec": {
   "display_name": "Python 3",
   "language": "python",
   "name": "python3"
  },
  "language_info": {
   "codemirror_mode": {
    "name": "ipython",
    "version": 3
   },
   "file_extension": ".py",
   "mimetype": "text/x-python",
   "name": "python",
   "nbconvert_exporter": "python",
   "pygments_lexer": "ipython3",
   "version": "3.6.0"
  }
 },
 "nbformat": 4,
 "nbformat_minor": 0
}
