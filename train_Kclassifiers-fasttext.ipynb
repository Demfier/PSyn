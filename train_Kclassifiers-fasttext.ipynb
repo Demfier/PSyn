{
 "cells": [
  {
   "cell_type": "code",
   "execution_count": 1,
   "metadata": {
    "collapsed": false
   },
   "outputs": [],
   "source": [
    "import pandas as pd\n",
    "import numpy as np\n",
    "from IPython.display import display\n",
    "from PSyn import matrix_functions\n",
    "from PSyn import brain\n",
    "import os\n",
    "import time\n",
    "SOURCE_DATA_PATH = 'data/task1/train/'"
   ]
  },
  {
   "cell_type": "code",
   "execution_count": null,
   "metadata": {
    "collapsed": false
   },
   "outputs": [
    {
     "name": "stdout",
     "output_type": "stream",
     "text": [
      "polish-train-high\n",
      "Total Alphabets:\n",
      "{'j', 'b', 'k', 'G', 'D', 'y', 'ę', 'H', 'l', 'A', 'c', 'B', 'u', 'ą', 'Z', '-', 'ż', 'p', 'M', 'ń', 'R', 'W', 'h', 'E', 'I', 'U', 'X', 'J', 'Ż', 'F', 'P', 'ć', 'ó', 'ś', 'w', 'Ł', ' ', 'g', 'n', 't', 'f', 's', 'ź', 'S', 'ł', 'o', 'e', 'm', 'x', 'r', 'z', 'd', 'K', 'N', 'a', 'i', 'C'}\n",
      "Epsilon: 8.000000\n",
      "Ci: 57.000000\n",
      "(0,)\n"
     ]
    }
   ],
   "source": [
    "source_files = os.listdir(SOURCE_DATA_PATH)\n",
    "source_files = ['polish-train-high']\n",
    "start = time.time()\n",
    "for source in source_files:\n",
    "    print(source)\n",
    "    brain.train_Kmodel_classifier(source, classifier='decision_tree', train_fasttext=True)\n",
    "    print(time.time() - start)\n",
    "    start = time.time()"
   ]
  },
  {
   "cell_type": "code",
   "execution_count": 3,
   "metadata": {
    "collapsed": false,
    "scrolled": true
   },
   "outputs": [
    {
     "name": "stdout",
     "output_type": "stream",
     "text": [
      "polish-train-high\n",
      "Total Alphabets:\n",
      "{'ż', 'ę', 'Z', 'a', 'e', 'H', 'D', '-', 'ó', ' ', 'ą', 'P', 'f', 'C', 'N', 'Ł', 'd', 'ś', 'g', 'x', 'm', 'w', 'n', 'ł', 'R', 'b', 'l', 'k', 'A', 'W', 'F', 'M', 'I', 't', 'X', 'U', 'G', 'S', 'h', 'o', 'ć', 'z', 'ź', 'ń', 's', 'u', 'c', 'J', 'B', 'p', 'Ż', 'r', 'K', 'E', 'y', 'i', 'j'}\n",
      "Epsilon: 8.000000\n",
      "Ci: 57.000000\n"
     ]
    },
    {
     "ename": "NameError",
     "evalue": "name 'random_test' is not defined",
     "output_type": "error",
     "traceback": [
      "\u001b[0;31m---------------------------------------------------------------------------\u001b[0m",
      "\u001b[0;31mNameError\u001b[0m                                 Traceback (most recent call last)",
      "\u001b[0;32m<ipython-input-3-08844981695c>\u001b[0m in \u001b[0;36m<module>\u001b[0;34m()\u001b[0m\n\u001b[1;32m      4\u001b[0m \u001b[0;32mfor\u001b[0m \u001b[0msource\u001b[0m \u001b[0;32min\u001b[0m \u001b[0msource_files\u001b[0m\u001b[0;34m:\u001b[0m\u001b[0;34m\u001b[0m\u001b[0m\n\u001b[1;32m      5\u001b[0m     \u001b[0mprint\u001b[0m\u001b[0;34m(\u001b[0m\u001b[0msource\u001b[0m\u001b[0;34m)\u001b[0m\u001b[0;34m\u001b[0m\u001b[0m\n\u001b[0;32m----> 6\u001b[0;31m     \u001b[0mbrain\u001b[0m\u001b[0;34m.\u001b[0m\u001b[0mtrain_Kmodel_classifier\u001b[0m\u001b[0;34m(\u001b[0m\u001b[0msource\u001b[0m\u001b[0;34m,\u001b[0m \u001b[0mclassifier\u001b[0m\u001b[0;34m=\u001b[0m\u001b[0;34m'random_forest'\u001b[0m\u001b[0;34m)\u001b[0m\u001b[0;34m\u001b[0m\u001b[0m\n\u001b[0m\u001b[1;32m      7\u001b[0m     \u001b[0mprint\u001b[0m\u001b[0;34m(\u001b[0m\u001b[0mtime\u001b[0m\u001b[0;34m.\u001b[0m\u001b[0mtime\u001b[0m\u001b[0;34m(\u001b[0m\u001b[0;34m)\u001b[0m \u001b[0;34m-\u001b[0m \u001b[0mstart\u001b[0m\u001b[0;34m)\u001b[0m\u001b[0;34m\u001b[0m\u001b[0m\n\u001b[1;32m      8\u001b[0m     \u001b[0mstart\u001b[0m \u001b[0;34m=\u001b[0m \u001b[0mtime\u001b[0m\u001b[0;34m.\u001b[0m\u001b[0mtime\u001b[0m\u001b[0;34m(\u001b[0m\u001b[0;34m)\u001b[0m\u001b[0;34m\u001b[0m\u001b[0m\n",
      "\u001b[0;32m/home/gaurav/python-scripts/py/scripts/pg_project/BTP-ProgSyn/program_synthesis/PSyn/brain.py\u001b[0m in \u001b[0;36mtrain_Kmodel_classifier\u001b[0;34m(language, classifier, random_training, train_fasttext)\u001b[0m\n\u001b[1;32m    186\u001b[0m     \u001b[0;31m# Calculate Feature Vector\u001b[0m\u001b[0;34m\u001b[0m\u001b[0;34m\u001b[0m\u001b[0m\n\u001b[1;32m    187\u001b[0m     \u001b[0;32mfor\u001b[0m \u001b[0msource_node\u001b[0m \u001b[0;32min\u001b[0m \u001b[0msource_df\u001b[0m\u001b[0;34m[\u001b[0m\u001b[0;34m'source_node'\u001b[0m\u001b[0;34m]\u001b[0m\u001b[0;34m:\u001b[0m\u001b[0;34m\u001b[0m\u001b[0m\n\u001b[0;32m--> 188\u001b[0;31m         \u001b[0;32mif\u001b[0m \u001b[0mtrain_fasttext\u001b[0m \u001b[0;32mor\u001b[0m \u001b[0mrandom_test\u001b[0m\u001b[0;34m:\u001b[0m\u001b[0;34m\u001b[0m\u001b[0m\n\u001b[0m\u001b[1;32m    189\u001b[0m             \u001b[0;32mcontinue\u001b[0m\u001b[0;34m\u001b[0m\u001b[0m\n\u001b[1;32m    190\u001b[0m         \u001b[0;32mif\u001b[0m \u001b[0msource_node\u001b[0m \u001b[0;32mnot\u001b[0m \u001b[0;32min\u001b[0m \u001b[0mlabel_source_nodes\u001b[0m\u001b[0;34m:\u001b[0m\u001b[0;34m\u001b[0m\u001b[0m\n",
      "\u001b[0;31mNameError\u001b[0m: name 'random_test' is not defined"
     ]
    }
   ],
   "source": [
    "source_files = os.listdir(SOURCE_DATA_PATH)\n",
    "source_files = ['polish-train-high']\n",
    "start = time.time()\n",
    "for source in source_files:\n",
    "    print(source)\n",
    "    brain.train_Kmodel_classifier(source, classifier='random_forest')\n",
    "    print(time.time() - start)\n",
    "    start = time.time()"
   ]
  }
 ],
 "metadata": {
  "kernelspec": {
   "display_name": "Python 3",
   "language": "python",
   "name": "python3"
  },
  "language_info": {
   "codemirror_mode": {
    "name": "ipython",
    "version": 3
   },
   "file_extension": ".py",
   "mimetype": "text/x-python",
   "name": "python",
   "nbconvert_exporter": "python",
   "pygments_lexer": "ipython3",
   "version": "3.6.0"
  }
 },
 "nbformat": 4,
 "nbformat_minor": 2
}
