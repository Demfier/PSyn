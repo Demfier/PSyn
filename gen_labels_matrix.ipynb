{
 "cells": [
  {
   "cell_type": "code",
   "execution_count": 1,
   "metadata": {
    "collapsed": true
   },
   "outputs": [],
   "source": [
    "import pandas as pd\n",
    "import numpy as np\n",
    "from IPython.display import display\n",
    "from PSyn import matrix_functions\n",
    "import os\n",
    "import time\n",
    "OPN_JSON_PATH = 'data/task1/output/opn_dfs/op_sequence_dict/'\n",
    "SOURCE_DATA_PATH = 'data/task1/train/'\n",
    "LABELS_STORE_PATH = 'data/task1/output/labels/'"
   ]
  },
  {
   "cell_type": "code",
   "execution_count": 4,
   "metadata": {
    "collapsed": false
   },
   "outputs": [
    {
     "name": "stdout",
     "output_type": "stream",
     "text": [
      "polish-train-medium\n",
      "Total Alphabets:\n",
      "{'W', 'm', 't', 'ź', 'R', ' ', 'y', 'w', 'ł', 'ń', 'B', 'ę', 'l', 'g', 'p', 'ż', 'i', 'u', 'f', 'ą', 'k', 'a', 'd', 'C', 'r', 'j', 'b', 'o', 'h', 'Ż', 's', 'c', 'n', 'z', 'M', 'ć', 'ś', 'e', 'ó', 'G'}\n",
      "Epsilon: 9.000000\n",
      "Ci: 40.000000\n",
      "5.8338398933410645\n"
     ]
    }
   ],
   "source": [
    "source_files = os.listdir(SOURCE_DATA_PATH)\n",
    "source_files = ['polish-train-medium']\n",
    "start = time.time()\n",
    "for source in source_files:\n",
    "#     if source + '.p' in os.listdir(LABELS_STORE_PATH) or source + '.json' not in os.listdir(OPN_JSON_PATH):\n",
    "#         continue\n",
    "    print(source)\n",
    "    labels_mat = matrix_functions.gen_labels_matrix(OPN_JSON_PATH + 'polish-uncovered-test' + '.json', 'data/task1/dev/polish-dev')\n",
    "    print(time.time() - start)\n",
    "    start = time.time()\n",
    "    labels_mat.to_pickle(LABELS_STORE_PATH + source + 'dev' + '.p')"
   ]
  }
 ],
 "metadata": {
  "kernelspec": {
   "display_name": "Python 3",
   "language": "python",
   "name": "python3"
  },
  "language_info": {
   "codemirror_mode": {
    "name": "ipython",
    "version": 3
   },
   "file_extension": ".py",
   "mimetype": "text/x-python",
   "name": "python",
   "nbconvert_exporter": "python",
   "pygments_lexer": "ipython3",
   "version": "3.6.0"
  }
 },
 "nbformat": 4,
 "nbformat_minor": 2
}
