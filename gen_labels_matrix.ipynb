{
 "cells": [
  {
   "cell_type": "code",
   "execution_count": null,
   "metadata": {
    "collapsed": true
   },
   "outputs": [],
   "source": [
    "import pandas as pd\n",
    "import numpy as np\n",
    "from IPython.display import display\n",
    "from PSyn import matrix_functions\n",
    "import os\n",
    "import time\n",
    "OPN_JSON_PATH = 'data/task1/output/opn_dfs/op_sequence_dict/'\n",
    "SOURCE_DATA_PATH = 'data/task1/train/'\n",
    "LABELS_STORE_PATH = 'data/task1/output/labels/'"
   ]
  },
  {
   "cell_type": "code",
   "execution_count": null,
   "metadata": {
    "collapsed": false
   },
   "outputs": [
    {
     "name": "stdout",
     "output_type": "stream",
     "text": [
      "ukrainian-train-high\n",
      "Total Alphabets:\n",
      "{'Р', 'в', 'п', 'н', 'х', 'і', 'с', 'ж', 'ґ', 'и', 'г', 'ь', 'є', 'Д', 'к', 'о', 'ї', 'ц', 'м', 'р', 'б', 'ч', 'ю', 'я', 'ф', 'у', 'т', 'а', 'л', 'ш', 'й', 'щ', 'е', 'д', 'з'}\n",
      "Epsilon: 8.000000\n",
      "Ci: 35.000000\n",
      "2658.2265911102295\n",
      "turkish-train-high\n",
      "Total Alphabets:\n",
      "{'S', 'a', 'ş', 'C', 'ö', 'p', 'm', 's', ' ', 'o', 'z', 'Y', \"'\", 't', 'ğ', 'V', 'A', 'e', 'k', 'L', 'b', '-', 'j', 'D', 'T', 'Ç', 'P', 'l', 'ü', 'r', 'ı', 'w', 'g', 'B', 'd', 'f', 'î', 'Z', 'v', 'u', 'W', 'û', 'h', 'M', 'K', 'i', 'ç', 'c', 'â', 'n', 'y'}\n",
      "Epsilon: 8.000000\n",
      "Ci: 51.000000\n"
     ]
    }
   ],
   "source": [
    "source_files = os.listdir(SOURCE_DATA_PATH)\n",
    "# source_files = [source_files[1]]\n",
    "start = time.time()\n",
    "for source in source_files:\n",
    "    if source + '.p' in os.listdir(LABELS_STORE_PATH) or source + '.json' not in os.listdir(OPN_JSON_PATH):\n",
    "        continue\n",
    "    print(source)\n",
    "    labels_mat = matrix_functions.gen_labels_matrix(OPN_JSON_PATH + source + '.json', SOURCE_DATA_PATH + source)\n",
    "    print(time.time() - start)\n",
    "    start = time.time()\n",
    "    labels_mat.to_pickle(LABELS_STORE_PATH + source + '.p')"
   ]
  }
 ],
 "metadata": {
  "kernelspec": {
   "display_name": "Python 3",
   "language": "python",
   "name": "python3"
  },
  "language_info": {
   "codemirror_mode": {
    "name": "ipython",
    "version": 3
   },
   "file_extension": ".py",
   "mimetype": "text/x-python",
   "name": "python",
   "nbconvert_exporter": "python",
   "pygments_lexer": "ipython3",
   "version": "3.6.0"
  }
 },
 "nbformat": 4,
 "nbformat_minor": 2
}
